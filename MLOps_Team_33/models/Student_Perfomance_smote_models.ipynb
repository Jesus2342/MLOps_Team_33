{
 "cells": [
  {
   "cell_type": "markdown",
   "metadata": {},
   "source": [
    "# Setup"
   ]
  },
  {
   "cell_type": "code",
   "execution_count": 6,
   "metadata": {},
   "outputs": [],
   "source": [
    "import pandas as pd\n",
    "import os\n",
    "import numpy as np\n",
    "from scipy.io import arff\n",
    "import seaborn as sns\n",
    "import matplotlib.pyplot as plt\n",
    "from sklearn.preprocessing import LabelEncoder\n",
    "from sklearn.preprocessing import OneHotEncoder\n",
    "from sklearn.compose import ColumnTransformer\n",
    "from sklearn.model_selection import train_test_split\n",
    "from sklearn.ensemble import RandomForestClassifier\n",
    "from sklearn.linear_model import LogisticRegression\n",
    "from sklearn.neural_network import MLPClassifier\n",
    "from sklearn.metrics import classification_report\n",
    "from sklearn.neighbors import KNeighborsClassifier\n",
    "from imblearn.over_sampling import SMOTE\n",
    "from sklearn.svm import SVC\n",
    "from xgboost import XGBClassifier\n",
    "from imblearn.combine import SMOTETomek\n",
    "import mlflow\n",
    "import mlflow.sklearn\n",
    "import mlflow.xgboost\n",
    "from sklearn.metrics import accuracy_score, recall_score, precision_score, confusion_matrix\n",
    "import warnings\n",
    "warnings.filterwarnings('ignore', category=FutureWarning)"
   ]
  },
  {
   "cell_type": "markdown",
   "metadata": {},
   "source": [
    "# Loading the data"
   ]
  },
  {
   "cell_type": "code",
   "execution_count": 7,
   "metadata": {},
   "outputs": [
    {
     "name": "stdout",
     "output_type": "stream",
     "text": [
      "<class 'pandas.core.frame.DataFrame'>\n",
      "RangeIndex: 666 entries, 0 to 665\n",
      "Data columns (total 12 columns):\n",
      " #   Column                Non-Null Count  Dtype \n",
      "---  ------                --------------  ----- \n",
      " 0   Performance           666 non-null    object\n",
      " 1   Gender                666 non-null    object\n",
      " 2   Caste                 666 non-null    object\n",
      " 3   coaching              666 non-null    object\n",
      " 4   time                  666 non-null    object\n",
      " 5   Class_ten_education   666 non-null    object\n",
      " 6   twelve_education      666 non-null    object\n",
      " 7   medium                666 non-null    object\n",
      " 8   Class_ X_Percentage   666 non-null    object\n",
      " 9   Class_XII_Percentage  666 non-null    object\n",
      " 10  Father_occupation     666 non-null    object\n",
      " 11  Mother_occupation     666 non-null    object\n",
      "dtypes: object(12)\n",
      "memory usage: 62.6+ KB\n"
     ]
    }
   ],
   "source": [
    "#Get route of the path\n",
    "current_path = os.getcwd()\n",
    "aux_curr_path = current_path\n",
    "project_path = aux_curr_path.replace('/models', '')\n",
    "dataset_path = \"dataset/CEE_DATA.arff\"\n",
    "dataset_path = os.path.join(project_path, dataset_path)\n",
    "\n",
    "data, meta = arff.loadarff(dataset_path)\n",
    "\n",
    "df = pd.DataFrame(data)\n",
    "df = df.applymap(lambda x: x.decode('utf-8') if isinstance(x, bytes) else x) #Encoding from byte to string \n",
    "df.info()"
   ]
  },
  {
   "cell_type": "markdown",
   "metadata": {},
   "source": [
    "            #0 : Average -  157\n",
    "            #1 : Excellent - 101\n",
    "            #2 : Good - 210\n",
    "            #3 : Very Good - 198"
   ]
  },
  {
   "cell_type": "markdown",
   "metadata": {},
   "source": [
    "# Preprocessing and Feature Engineering"
   ]
  },
  {
   "cell_type": "code",
   "execution_count": 8,
   "metadata": {},
   "outputs": [
    {
     "data": {
      "text/html": [
       "<div>\n",
       "<style scoped>\n",
       "    .dataframe tbody tr th:only-of-type {\n",
       "        vertical-align: middle;\n",
       "    }\n",
       "\n",
       "    .dataframe tbody tr th {\n",
       "        vertical-align: top;\n",
       "    }\n",
       "\n",
       "    .dataframe thead th {\n",
       "        text-align: right;\n",
       "    }\n",
       "</style>\n",
       "<table border=\"1\" class=\"dataframe\">\n",
       "  <thead>\n",
       "    <tr style=\"text-align: right;\">\n",
       "      <th></th>\n",
       "      <th>Performance</th>\n",
       "      <th>Gender</th>\n",
       "      <th>Caste</th>\n",
       "      <th>coaching</th>\n",
       "      <th>time</th>\n",
       "      <th>Class_ten_education</th>\n",
       "      <th>twelve_education</th>\n",
       "      <th>medium</th>\n",
       "      <th>Class_ X_Percentage</th>\n",
       "      <th>Class_XII_Percentage</th>\n",
       "      <th>Father_occupation</th>\n",
       "      <th>Mother_occupation</th>\n",
       "    </tr>\n",
       "  </thead>\n",
       "  <tbody>\n",
       "    <tr>\n",
       "      <th>0</th>\n",
       "      <td>Excellent</td>\n",
       "      <td>male</td>\n",
       "      <td>General</td>\n",
       "      <td>NO</td>\n",
       "      <td>ONE</td>\n",
       "      <td>SEBA</td>\n",
       "      <td>AHSEC</td>\n",
       "      <td>ENGLISH</td>\n",
       "      <td>Excellent</td>\n",
       "      <td>Excellent</td>\n",
       "      <td>DOCTOR</td>\n",
       "      <td>OTHERS</td>\n",
       "    </tr>\n",
       "    <tr>\n",
       "      <th>1</th>\n",
       "      <td>Excellent</td>\n",
       "      <td>male</td>\n",
       "      <td>OBC</td>\n",
       "      <td>WA</td>\n",
       "      <td>TWO</td>\n",
       "      <td>SEBA</td>\n",
       "      <td>AHSEC</td>\n",
       "      <td>OTHERS</td>\n",
       "      <td>Excellent</td>\n",
       "      <td>Excellent</td>\n",
       "      <td>SCHOOL_TEACHER</td>\n",
       "      <td>HOUSE_WIFE</td>\n",
       "    </tr>\n",
       "    <tr>\n",
       "      <th>2</th>\n",
       "      <td>Excellent</td>\n",
       "      <td>male</td>\n",
       "      <td>OBC</td>\n",
       "      <td>OA</td>\n",
       "      <td>TWO</td>\n",
       "      <td>OTHERS</td>\n",
       "      <td>CBSE</td>\n",
       "      <td>ENGLISH</td>\n",
       "      <td>Excellent</td>\n",
       "      <td>Excellent</td>\n",
       "      <td>BUSINESS</td>\n",
       "      <td>HOUSE_WIFE</td>\n",
       "    </tr>\n",
       "    <tr>\n",
       "      <th>3</th>\n",
       "      <td>Excellent</td>\n",
       "      <td>male</td>\n",
       "      <td>General</td>\n",
       "      <td>WA</td>\n",
       "      <td>ONE</td>\n",
       "      <td>SEBA</td>\n",
       "      <td>AHSEC</td>\n",
       "      <td>OTHERS</td>\n",
       "      <td>Excellent</td>\n",
       "      <td>Excellent</td>\n",
       "      <td>SCHOOL_TEACHER</td>\n",
       "      <td>SCHOOL_TEACHER</td>\n",
       "    </tr>\n",
       "    <tr>\n",
       "      <th>4</th>\n",
       "      <td>Excellent</td>\n",
       "      <td>male</td>\n",
       "      <td>General</td>\n",
       "      <td>OA</td>\n",
       "      <td>TWO</td>\n",
       "      <td>SEBA</td>\n",
       "      <td>CBSE</td>\n",
       "      <td>ENGLISH</td>\n",
       "      <td>Excellent</td>\n",
       "      <td>Excellent</td>\n",
       "      <td>COLLEGE_TEACHER</td>\n",
       "      <td>HOUSE_WIFE</td>\n",
       "    </tr>\n",
       "    <tr>\n",
       "      <th>...</th>\n",
       "      <td>...</td>\n",
       "      <td>...</td>\n",
       "      <td>...</td>\n",
       "      <td>...</td>\n",
       "      <td>...</td>\n",
       "      <td>...</td>\n",
       "      <td>...</td>\n",
       "      <td>...</td>\n",
       "      <td>...</td>\n",
       "      <td>...</td>\n",
       "      <td>...</td>\n",
       "      <td>...</td>\n",
       "    </tr>\n",
       "    <tr>\n",
       "      <th>660</th>\n",
       "      <td>Average</td>\n",
       "      <td>female</td>\n",
       "      <td>ST</td>\n",
       "      <td>WA</td>\n",
       "      <td>TWO</td>\n",
       "      <td>SEBA</td>\n",
       "      <td>CBSE</td>\n",
       "      <td>ENGLISH</td>\n",
       "      <td>Good</td>\n",
       "      <td>Vg</td>\n",
       "      <td>DOCTOR</td>\n",
       "      <td>SCHOOL_TEACHER</td>\n",
       "    </tr>\n",
       "    <tr>\n",
       "      <th>661</th>\n",
       "      <td>Average</td>\n",
       "      <td>female</td>\n",
       "      <td>ST</td>\n",
       "      <td>WA</td>\n",
       "      <td>ONE</td>\n",
       "      <td>SEBA</td>\n",
       "      <td>AHSEC</td>\n",
       "      <td>ENGLISH</td>\n",
       "      <td>Good</td>\n",
       "      <td>Vg</td>\n",
       "      <td>OTHERS</td>\n",
       "      <td>HOUSE_WIFE</td>\n",
       "    </tr>\n",
       "    <tr>\n",
       "      <th>662</th>\n",
       "      <td>Average</td>\n",
       "      <td>male</td>\n",
       "      <td>ST</td>\n",
       "      <td>WA</td>\n",
       "      <td>THREE</td>\n",
       "      <td>SEBA</td>\n",
       "      <td>AHSEC</td>\n",
       "      <td>ENGLISH</td>\n",
       "      <td>Vg</td>\n",
       "      <td>Good</td>\n",
       "      <td>CULTIVATOR</td>\n",
       "      <td>HOUSE_WIFE</td>\n",
       "    </tr>\n",
       "    <tr>\n",
       "      <th>663</th>\n",
       "      <td>Average</td>\n",
       "      <td>male</td>\n",
       "      <td>ST</td>\n",
       "      <td>WA</td>\n",
       "      <td>TWO</td>\n",
       "      <td>SEBA</td>\n",
       "      <td>CBSE</td>\n",
       "      <td>ENGLISH</td>\n",
       "      <td>Good</td>\n",
       "      <td>Vg</td>\n",
       "      <td>OTHERS</td>\n",
       "      <td>SCHOOL_TEACHER</td>\n",
       "    </tr>\n",
       "    <tr>\n",
       "      <th>665</th>\n",
       "      <td>Average</td>\n",
       "      <td>female</td>\n",
       "      <td>ST</td>\n",
       "      <td>NO</td>\n",
       "      <td>ONE</td>\n",
       "      <td>SEBA</td>\n",
       "      <td>CBSE</td>\n",
       "      <td>ENGLISH</td>\n",
       "      <td>Vg</td>\n",
       "      <td>Good</td>\n",
       "      <td>BUSINESS</td>\n",
       "      <td>OTHERS</td>\n",
       "    </tr>\n",
       "  </tbody>\n",
       "</table>\n",
       "<p>622 rows × 12 columns</p>\n",
       "</div>"
      ],
      "text/plain": [
       "    Performance  Gender    Caste coaching   time Class_ten_education  \\\n",
       "0     Excellent    male  General       NO    ONE                SEBA   \n",
       "1     Excellent    male      OBC       WA    TWO                SEBA   \n",
       "2     Excellent    male      OBC       OA    TWO              OTHERS   \n",
       "3     Excellent    male  General       WA    ONE                SEBA   \n",
       "4     Excellent    male  General       OA    TWO                SEBA   \n",
       "..          ...     ...      ...      ...    ...                 ...   \n",
       "660     Average  female       ST       WA    TWO                SEBA   \n",
       "661     Average  female       ST       WA    ONE                SEBA   \n",
       "662     Average    male       ST       WA  THREE                SEBA   \n",
       "663     Average    male       ST       WA    TWO                SEBA   \n",
       "665     Average  female       ST       NO    ONE                SEBA   \n",
       "\n",
       "    twelve_education   medium Class_ X_Percentage Class_XII_Percentage  \\\n",
       "0              AHSEC  ENGLISH           Excellent            Excellent   \n",
       "1              AHSEC   OTHERS           Excellent            Excellent   \n",
       "2               CBSE  ENGLISH           Excellent            Excellent   \n",
       "3              AHSEC   OTHERS           Excellent            Excellent   \n",
       "4               CBSE  ENGLISH           Excellent            Excellent   \n",
       "..               ...      ...                 ...                  ...   \n",
       "660             CBSE  ENGLISH                Good                   Vg   \n",
       "661            AHSEC  ENGLISH                Good                   Vg   \n",
       "662            AHSEC  ENGLISH                  Vg                 Good   \n",
       "663             CBSE  ENGLISH                Good                   Vg   \n",
       "665             CBSE  ENGLISH                  Vg                 Good   \n",
       "\n",
       "    Father_occupation Mother_occupation  \n",
       "0              DOCTOR            OTHERS  \n",
       "1      SCHOOL_TEACHER        HOUSE_WIFE  \n",
       "2            BUSINESS        HOUSE_WIFE  \n",
       "3      SCHOOL_TEACHER    SCHOOL_TEACHER  \n",
       "4     COLLEGE_TEACHER        HOUSE_WIFE  \n",
       "..                ...               ...  \n",
       "660            DOCTOR    SCHOOL_TEACHER  \n",
       "661            OTHERS        HOUSE_WIFE  \n",
       "662        CULTIVATOR        HOUSE_WIFE  \n",
       "663            OTHERS    SCHOOL_TEACHER  \n",
       "665          BUSINESS            OTHERS  \n",
       "\n",
       "[622 rows x 12 columns]"
      ]
     },
     "execution_count": 8,
     "metadata": {},
     "output_type": "execute_result"
    }
   ],
   "source": [
    "updated_df=df.drop_duplicates()\n",
    "updated_df"
   ]
  },
  {
   "cell_type": "code",
   "execution_count": 9,
   "metadata": {},
   "outputs": [],
   "source": [
    "y= updated_df[['Performance']]"
   ]
  },
  {
   "cell_type": "code",
   "execution_count": 10,
   "metadata": {},
   "outputs": [
    {
     "name": "stderr",
     "output_type": "stream",
     "text": [
      "/opt/anaconda3/lib/python3.11/site-packages/sklearn/preprocessing/_label.py:116: DataConversionWarning: A column-vector y was passed when a 1d array was expected. Please change the shape of y to (n_samples, ), for example using ravel().\n",
      "  y = column_or_1d(y, warn=True)\n"
     ]
    }
   ],
   "source": [
    "#Create oneHot enconder object\n",
    "enc_OneHot = OneHotEncoder(sparse_output=False)\n",
    "\n",
    "#Applying OneHot\n",
    "y_OneHot = enc_OneHot.fit_transform(y)\n",
    "\n",
    "#Create Label encoder object\n",
    "ord_enc=LabelEncoder()\n",
    "\n",
    "#Applying LabelEnconder to y\n",
    "y_Label=ord_enc.fit_transform(y)\n",
    "y_df = pd.DataFrame(y_Label, columns=['y_coding_col'])\n"
   ]
  },
  {
   "cell_type": "code",
   "execution_count": 11,
   "metadata": {},
   "outputs": [],
   "source": [
    "# Restablecer los índices de ambos DataFrames\n",
    "updated_df.reset_index(drop=True, inplace=True)\n",
    "y_df.reset_index(drop=True, inplace=True)\n",
    "\n",
    "# Concatenar ambos DataFrames\n",
    "updated_df = pd.concat([updated_df, y_df], axis=1)"
   ]
  },
  {
   "cell_type": "markdown",
   "metadata": {},
   "source": [
    "### Definining X"
   ]
  },
  {
   "cell_type": "code",
   "execution_count": 12,
   "metadata": {},
   "outputs": [],
   "source": [
    "col_of_interest=['Gender', 'Caste', 'coaching', 'time', 'Class_ X_Percentage', \n",
    "                 'Class_XII_Percentage', 'Father_occupation', 'Mother_occupation', \n",
    "                 'Class_ten_education', 'twelve_education', 'medium']\n",
    "\n",
    "\n",
    "X = updated_df[col_of_interest]\n",
    "\n",
    "y = updated_df[[\"y_coding_col\"]]"
   ]
  },
  {
   "cell_type": "markdown",
   "metadata": {},
   "source": [
    "### X ---> OneHot Encoding "
   ]
  },
  {
   "cell_type": "code",
   "execution_count": 13,
   "metadata": {},
   "outputs": [],
   "source": [
    "enc_OneHot = OneHotEncoder(sparse_output=False)\n",
    "\n",
    "col_X=col_of_interest\n",
    "# Create the transformer\n",
    "ct = ColumnTransformer(\n",
    "    transformers=[\n",
    "        (\"OneHotInXColumns\", enc_OneHot, col_X)\n",
    "    ],\n",
    "    remainder='passthrough'  # keep other columns as is\n",
    ")\n",
    "\n",
    "# Applying OneHot to X\n",
    "X_transformed = ct.fit_transform(X)\n",
    "\n",
    "\n",
    "\n",
    "smote= SMOTE(sampling_strategy=\"minority\")\n",
    "X_sm, y_sm =  smote.fit_resample(X_transformed,y)"
   ]
  },
  {
   "cell_type": "markdown",
   "metadata": {},
   "source": [
    "### y ---> OneHot and Label Enconding"
   ]
  },
  {
   "cell_type": "code",
   "execution_count": 14,
   "metadata": {},
   "outputs": [],
   "source": [
    "#Applying OneHot\n",
    "y_OneHot = enc_OneHot.fit_transform(y_sm)\n",
    "\n",
    "#Get Label enconder\n",
    "y_Label = y_sm"
   ]
  },
  {
   "cell_type": "markdown",
   "metadata": {},
   "source": [
    "-------"
   ]
  },
  {
   "cell_type": "markdown",
   "metadata": {},
   "source": [
    "# Splitting the dataset"
   ]
  },
  {
   "cell_type": "code",
   "execution_count": 15,
   "metadata": {},
   "outputs": [],
   "source": [
    "#Split the dataset for y_OneHot\n",
    "X_train, X_test, y_train_OneHot, y_test_OneHot = train_test_split(X_sm, y_OneHot, test_size=0.2, random_state=42)\n"
   ]
  },
  {
   "cell_type": "code",
   "execution_count": 19,
   "metadata": {},
   "outputs": [
    {
     "data": {
      "text/plain": [
       "array([1., 0., 1., 0., 0., 0., 0., 0., 1., 0., 0., 0., 0., 0., 1., 0., 1.,\n",
       "       0., 0., 0., 1., 0., 0., 0., 0., 1., 0., 0., 0., 0., 0., 0., 0., 0.,\n",
       "       0., 0., 0., 0., 0., 1., 1., 0., 0., 0., 1., 0., 0., 1., 0.])"
      ]
     },
     "execution_count": 19,
     "metadata": {},
     "output_type": "execute_result"
    }
   ],
   "source": [
    "X_test[0]"
   ]
  },
  {
   "cell_type": "code",
   "execution_count": null,
   "metadata": {},
   "outputs": [],
   "source": [
    "y"
   ]
  },
  {
   "cell_type": "code",
   "execution_count": 21,
   "metadata": {},
   "outputs": [],
   "source": [
    "\n",
    "Experiments = [\n",
    "    (\n",
    "    \n",
    "        \"MLP SMOTE\",\n",
    "        MLPClassifier(hidden_layer_sizes=(100,), max_iter=300, activation='relu', solver='adam'),\n",
    "        (X_train, y_train_OneHot),\n",
    "        (X_test, y_test_OneHot)\n",
    "    )\n",
    "    \n",
    "]\n"
   ]
  },
  {
   "cell_type": "code",
   "execution_count": 23,
   "metadata": {},
   "outputs": [
    {
     "data": {
      "text/plain": [
       "1"
      ]
     },
     "execution_count": 23,
     "metadata": {},
     "output_type": "execute_result"
    }
   ],
   "source": [
    "len(Experiments)"
   ]
  },
  {
   "cell_type": "code",
   "execution_count": 17,
   "metadata": {},
   "outputs": [
    {
     "name": "stderr",
     "output_type": "stream",
     "text": [
      "/opt/anaconda3/lib/python3.11/site-packages/sklearn/metrics/_classification.py:1344: UndefinedMetricWarning: Precision and F-score are ill-defined and being set to 0.0 in samples with no predicted labels. Use `zero_division` parameter to control this behavior.\n",
      "  _warn_prf(average, modifier, msg_start, len(result))\n",
      "/opt/anaconda3/lib/python3.11/site-packages/xgboost/core.py:158: UserWarning: [15:58:09] WARNING: /Users/runner/work/xgboost/xgboost/src/learner.cc:740: \n",
      "Parameters: { \"use_label_encoder\" } are not used.\n",
      "\n",
      "  warnings.warn(smsg, UserWarning)\n",
      "/opt/anaconda3/lib/python3.11/site-packages/sklearn/metrics/_classification.py:1344: UndefinedMetricWarning: Precision and F-score are ill-defined and being set to 0.0 in samples with no predicted labels. Use `zero_division` parameter to control this behavior.\n",
      "  _warn_prf(average, modifier, msg_start, len(result))\n",
      "/opt/anaconda3/lib/python3.11/site-packages/sklearn/utils/validation.py:1143: DataConversionWarning: A column-vector y was passed when a 1d array was expected. Please change the shape of y to (n_samples, ), for example using ravel().\n",
      "  y = column_or_1d(y, warn=True)\n",
      "/opt/anaconda3/lib/python3.11/site-packages/sklearn/neighbors/_classification.py:215: DataConversionWarning: A column-vector y was passed when a 1d array was expected. Please change the shape of y to (n_samples,), for example using ravel().\n",
      "  return self._fit(X, y)\n",
      "/opt/anaconda3/lib/python3.11/site-packages/sklearn/neural_network/_multilayer_perceptron.py:686: ConvergenceWarning: Stochastic Optimizer: Maximum iterations (300) reached and the optimization hasn't converged yet.\n",
      "  warnings.warn(\n",
      "/opt/anaconda3/lib/python3.11/site-packages/sklearn/metrics/_classification.py:1344: UndefinedMetricWarning: Precision and F-score are ill-defined and being set to 0.0 in samples with no predicted labels. Use `zero_division` parameter to control this behavior.\n",
      "  _warn_prf(average, modifier, msg_start, len(result))\n",
      "/opt/anaconda3/lib/python3.11/site-packages/sklearn/utils/validation.py:1143: DataConversionWarning: A column-vector y was passed when a 1d array was expected. Please change the shape of y to (n_samples, ), for example using ravel().\n",
      "  y = column_or_1d(y, warn=True)\n"
     ]
    }
   ],
   "source": [
    "results_per_model = []\n",
    "\n",
    "for model_name, model, train_set, test_set in Experiments:\n",
    "    X_train = train_set[0] #get Xtrain from the list models\n",
    "    y_train = train_set[1] #get y_train from list models\n",
    "    X_test = test_set[0]    #get x_test from list models \n",
    "    y_test = test_set[1]   #get y_test from list models\n",
    "    \n",
    "    model.fit(X_train, y_train)  #train the current model\n",
    "    y_pred = model.predict(X_test) #make predictions \n",
    "    report = classification_report(y_test, y_pred, output_dict=True) #make a dict of the classification report\n",
    "    \n",
    "    \n",
    "    results_per_model.append(report) #add the previus dict to a list"
   ]
  },
  {
   "cell_type": "code",
   "execution_count": 18,
   "metadata": {},
   "outputs": [
    {
     "name": "stderr",
     "output_type": "stream",
     "text": [
      "2024/10/26 15:58:12 INFO mlflow.tracking.fluent: Experiment with name 'Analysis Model Smote' does not exist. Creating a new experiment.\n"
     ]
    },
    {
     "ename": "RestException",
     "evalue": "RESOURCE_DOES_NOT_EXIST: Could not find experiment with ID 558532193040009851",
     "output_type": "error",
     "traceback": [
      "\u001b[0;31m---------------------------------------------------------------------------\u001b[0m",
      "\u001b[0;31mRestException\u001b[0m                             Traceback (most recent call last)",
      "Cell \u001b[0;32mIn[18], line 9\u001b[0m\n\u001b[1;32m      6\u001b[0m model \u001b[38;5;241m=\u001b[39m element[\u001b[38;5;241m1\u001b[39m]\n\u001b[1;32m      7\u001b[0m report \u001b[38;5;241m=\u001b[39m results_per_model[i]\n\u001b[0;32m----> 9\u001b[0m \u001b[38;5;28;01mwith\u001b[39;00m mlflow\u001b[38;5;241m.\u001b[39mstart_run(run_name\u001b[38;5;241m=\u001b[39mmodel_name):        \n\u001b[1;32m     10\u001b[0m         mlflow\u001b[38;5;241m.\u001b[39mlog_param(\u001b[38;5;124m\"\u001b[39m\u001b[38;5;124mmodel\u001b[39m\u001b[38;5;124m\"\u001b[39m, model_name)\n\u001b[1;32m     13\u001b[0m         \u001b[38;5;66;03m# -------------Class interpretation---------------- \u001b[39;00m\n\u001b[1;32m     14\u001b[0m         \u001b[38;5;66;03m#0 : Average\u001b[39;00m\n\u001b[1;32m     15\u001b[0m         \u001b[38;5;66;03m#1 : Excellent\u001b[39;00m\n\u001b[0;32m   (...)\u001b[0m\n\u001b[1;32m     18\u001b[0m \n\u001b[1;32m     19\u001b[0m         \u001b[38;5;66;03m#Metrics of class 0\u001b[39;00m\n",
      "File \u001b[0;32m/opt/anaconda3/lib/python3.11/site-packages/mlflow/tracking/fluent.py:418\u001b[0m, in \u001b[0;36mstart_run\u001b[0;34m(run_id, experiment_id, run_name, nested, parent_run_id, tags, description, log_system_metrics)\u001b[0m\n\u001b[1;32m    414\u001b[0m         user_specified_tags[MLFLOW_RUN_NAME] \u001b[38;5;241m=\u001b[39m run_name\n\u001b[1;32m    416\u001b[0m     resolved_tags \u001b[38;5;241m=\u001b[39m context_registry\u001b[38;5;241m.\u001b[39mresolve_tags(user_specified_tags)\n\u001b[0;32m--> 418\u001b[0m     active_run_obj \u001b[38;5;241m=\u001b[39m client\u001b[38;5;241m.\u001b[39mcreate_run(\n\u001b[1;32m    419\u001b[0m         experiment_id\u001b[38;5;241m=\u001b[39mexp_id_for_run,\n\u001b[1;32m    420\u001b[0m         tags\u001b[38;5;241m=\u001b[39mresolved_tags,\n\u001b[1;32m    421\u001b[0m         run_name\u001b[38;5;241m=\u001b[39mrun_name,\n\u001b[1;32m    422\u001b[0m     )\n\u001b[1;32m    424\u001b[0m \u001b[38;5;28;01mif\u001b[39;00m log_system_metrics \u001b[38;5;129;01mis\u001b[39;00m \u001b[38;5;28;01mNone\u001b[39;00m:\n\u001b[1;32m    425\u001b[0m     \u001b[38;5;66;03m# If `log_system_metrics` is not specified, we will check environment variable.\u001b[39;00m\n\u001b[1;32m    426\u001b[0m     log_system_metrics \u001b[38;5;241m=\u001b[39m MLFLOW_ENABLE_SYSTEM_METRICS_LOGGING\u001b[38;5;241m.\u001b[39mget()\n",
      "File \u001b[0;32m/opt/anaconda3/lib/python3.11/site-packages/mlflow/tracking/client.py:392\u001b[0m, in \u001b[0;36mMlflowClient.create_run\u001b[0;34m(self, experiment_id, start_time, tags, run_name)\u001b[0m\n\u001b[1;32m    338\u001b[0m \u001b[38;5;28;01mdef\u001b[39;00m \u001b[38;5;21mcreate_run\u001b[39m(\n\u001b[1;32m    339\u001b[0m     \u001b[38;5;28mself\u001b[39m,\n\u001b[1;32m    340\u001b[0m     experiment_id: \u001b[38;5;28mstr\u001b[39m,\n\u001b[0;32m   (...)\u001b[0m\n\u001b[1;32m    343\u001b[0m     run_name: Optional[\u001b[38;5;28mstr\u001b[39m] \u001b[38;5;241m=\u001b[39m \u001b[38;5;28;01mNone\u001b[39;00m,\n\u001b[1;32m    344\u001b[0m ) \u001b[38;5;241m-\u001b[39m\u001b[38;5;241m>\u001b[39m Run:\n\u001b[1;32m    345\u001b[0m \u001b[38;5;250m    \u001b[39m\u001b[38;5;124;03m\"\"\"\u001b[39;00m\n\u001b[1;32m    346\u001b[0m \u001b[38;5;124;03m    Create a :py:class:`mlflow.entities.Run` object that can be associated with\u001b[39;00m\n\u001b[1;32m    347\u001b[0m \u001b[38;5;124;03m    metrics, parameters, artifacts, etc.\u001b[39;00m\n\u001b[0;32m   (...)\u001b[0m\n\u001b[1;32m    390\u001b[0m \u001b[38;5;124;03m        status: RUNNING\u001b[39;00m\n\u001b[1;32m    391\u001b[0m \u001b[38;5;124;03m    \"\"\"\u001b[39;00m\n\u001b[0;32m--> 392\u001b[0m     \u001b[38;5;28;01mreturn\u001b[39;00m \u001b[38;5;28mself\u001b[39m\u001b[38;5;241m.\u001b[39m_tracking_client\u001b[38;5;241m.\u001b[39mcreate_run(experiment_id, start_time, tags, run_name)\n",
      "File \u001b[0;32m/opt/anaconda3/lib/python3.11/site-packages/mlflow/tracking/_tracking_service/client.py:167\u001b[0m, in \u001b[0;36mTrackingServiceClient.create_run\u001b[0;34m(self, experiment_id, start_time, tags, run_name)\u001b[0m\n\u001b[1;32m    162\u001b[0m \u001b[38;5;66;03m# Extract user from tags\u001b[39;00m\n\u001b[1;32m    163\u001b[0m \u001b[38;5;66;03m# This logic is temporary; the user_id attribute of runs is deprecated and will be removed\u001b[39;00m\n\u001b[1;32m    164\u001b[0m \u001b[38;5;66;03m# in a later release.\u001b[39;00m\n\u001b[1;32m    165\u001b[0m user_id \u001b[38;5;241m=\u001b[39m tags\u001b[38;5;241m.\u001b[39mget(MLFLOW_USER, \u001b[38;5;124m\"\u001b[39m\u001b[38;5;124munknown\u001b[39m\u001b[38;5;124m\"\u001b[39m)\n\u001b[0;32m--> 167\u001b[0m \u001b[38;5;28;01mreturn\u001b[39;00m \u001b[38;5;28mself\u001b[39m\u001b[38;5;241m.\u001b[39mstore\u001b[38;5;241m.\u001b[39mcreate_run(\n\u001b[1;32m    168\u001b[0m     experiment_id\u001b[38;5;241m=\u001b[39mexperiment_id,\n\u001b[1;32m    169\u001b[0m     user_id\u001b[38;5;241m=\u001b[39muser_id,\n\u001b[1;32m    170\u001b[0m     start_time\u001b[38;5;241m=\u001b[39mstart_time \u001b[38;5;129;01mor\u001b[39;00m get_current_time_millis(),\n\u001b[1;32m    171\u001b[0m     tags\u001b[38;5;241m=\u001b[39m[RunTag(key, value) \u001b[38;5;28;01mfor\u001b[39;00m (key, value) \u001b[38;5;129;01min\u001b[39;00m tags\u001b[38;5;241m.\u001b[39mitems()],\n\u001b[1;32m    172\u001b[0m     run_name\u001b[38;5;241m=\u001b[39mrun_name,\n\u001b[1;32m    173\u001b[0m )\n",
      "File \u001b[0;32m/opt/anaconda3/lib/python3.11/site-packages/mlflow/store/tracking/rest_store.py:209\u001b[0m, in \u001b[0;36mRestStore.create_run\u001b[0;34m(self, experiment_id, user_id, start_time, tags, run_name)\u001b[0m\n\u001b[1;32m    199\u001b[0m tag_protos \u001b[38;5;241m=\u001b[39m [tag\u001b[38;5;241m.\u001b[39mto_proto() \u001b[38;5;28;01mfor\u001b[39;00m tag \u001b[38;5;129;01min\u001b[39;00m tags]\n\u001b[1;32m    200\u001b[0m req_body \u001b[38;5;241m=\u001b[39m message_to_json(\n\u001b[1;32m    201\u001b[0m     CreateRun(\n\u001b[1;32m    202\u001b[0m         experiment_id\u001b[38;5;241m=\u001b[39m\u001b[38;5;28mstr\u001b[39m(experiment_id),\n\u001b[0;32m   (...)\u001b[0m\n\u001b[1;32m    207\u001b[0m     )\n\u001b[1;32m    208\u001b[0m )\n\u001b[0;32m--> 209\u001b[0m response_proto \u001b[38;5;241m=\u001b[39m \u001b[38;5;28mself\u001b[39m\u001b[38;5;241m.\u001b[39m_call_endpoint(CreateRun, req_body)\n\u001b[1;32m    210\u001b[0m \u001b[38;5;28;01mreturn\u001b[39;00m Run\u001b[38;5;241m.\u001b[39mfrom_proto(response_proto\u001b[38;5;241m.\u001b[39mrun)\n",
      "File \u001b[0;32m/opt/anaconda3/lib/python3.11/site-packages/mlflow/store/tracking/rest_store.py:82\u001b[0m, in \u001b[0;36mRestStore._call_endpoint\u001b[0;34m(self, api, json_body, endpoint)\u001b[0m\n\u001b[1;32m     80\u001b[0m     endpoint, method \u001b[38;5;241m=\u001b[39m _METHOD_TO_INFO[api]\n\u001b[1;32m     81\u001b[0m response_proto \u001b[38;5;241m=\u001b[39m api\u001b[38;5;241m.\u001b[39mResponse()\n\u001b[0;32m---> 82\u001b[0m \u001b[38;5;28;01mreturn\u001b[39;00m call_endpoint(\u001b[38;5;28mself\u001b[39m\u001b[38;5;241m.\u001b[39mget_host_creds(), endpoint, method, json_body, response_proto)\n",
      "File \u001b[0;32m/opt/anaconda3/lib/python3.11/site-packages/mlflow/utils/rest_utils.py:370\u001b[0m, in \u001b[0;36mcall_endpoint\u001b[0;34m(host_creds, endpoint, method, json_body, response_proto, extra_headers)\u001b[0m\n\u001b[1;32m    367\u001b[0m     call_kwargs[\u001b[38;5;124m\"\u001b[39m\u001b[38;5;124mjson\u001b[39m\u001b[38;5;124m\"\u001b[39m] \u001b[38;5;241m=\u001b[39m json_body\n\u001b[1;32m    368\u001b[0m     response \u001b[38;5;241m=\u001b[39m http_request(\u001b[38;5;241m*\u001b[39m\u001b[38;5;241m*\u001b[39mcall_kwargs)\n\u001b[0;32m--> 370\u001b[0m response \u001b[38;5;241m=\u001b[39m verify_rest_response(response, endpoint)\n\u001b[1;32m    371\u001b[0m response_to_parse \u001b[38;5;241m=\u001b[39m response\u001b[38;5;241m.\u001b[39mtext\n\u001b[1;32m    372\u001b[0m js_dict \u001b[38;5;241m=\u001b[39m json\u001b[38;5;241m.\u001b[39mloads(response_to_parse)\n",
      "File \u001b[0;32m/opt/anaconda3/lib/python3.11/site-packages/mlflow/utils/rest_utils.py:240\u001b[0m, in \u001b[0;36mverify_rest_response\u001b[0;34m(response, endpoint)\u001b[0m\n\u001b[1;32m    238\u001b[0m \u001b[38;5;28;01mif\u001b[39;00m response\u001b[38;5;241m.\u001b[39mstatus_code \u001b[38;5;241m!=\u001b[39m \u001b[38;5;241m200\u001b[39m:\n\u001b[1;32m    239\u001b[0m     \u001b[38;5;28;01mif\u001b[39;00m _can_parse_as_json_object(response\u001b[38;5;241m.\u001b[39mtext):\n\u001b[0;32m--> 240\u001b[0m         \u001b[38;5;28;01mraise\u001b[39;00m RestException(json\u001b[38;5;241m.\u001b[39mloads(response\u001b[38;5;241m.\u001b[39mtext))\n\u001b[1;32m    241\u001b[0m     \u001b[38;5;28;01melse\u001b[39;00m:\n\u001b[1;32m    242\u001b[0m         base_msg \u001b[38;5;241m=\u001b[39m (\n\u001b[1;32m    243\u001b[0m             \u001b[38;5;124mf\u001b[39m\u001b[38;5;124m\"\u001b[39m\u001b[38;5;124mAPI request to endpoint \u001b[39m\u001b[38;5;132;01m{\u001b[39;00mendpoint\u001b[38;5;132;01m}\u001b[39;00m\u001b[38;5;124m \u001b[39m\u001b[38;5;124m\"\u001b[39m\n\u001b[1;32m    244\u001b[0m             \u001b[38;5;124mf\u001b[39m\u001b[38;5;124m\"\u001b[39m\u001b[38;5;124mfailed with error code \u001b[39m\u001b[38;5;132;01m{\u001b[39;00mresponse\u001b[38;5;241m.\u001b[39mstatus_code\u001b[38;5;132;01m}\u001b[39;00m\u001b[38;5;124m != 200\u001b[39m\u001b[38;5;124m\"\u001b[39m\n\u001b[1;32m    245\u001b[0m         )\n",
      "\u001b[0;31mRestException\u001b[0m: RESOURCE_DOES_NOT_EXIST: Could not find experiment with ID 558532193040009851"
     ]
    }
   ],
   "source": [
    "mlflow.set_experiment(\"Analysis Model Smote\")\n",
    "mlflow.set_tracking_uri(\"http://3.84.228.208:5000\")\n",
    "\n",
    "for i, element in enumerate(Experiments):\n",
    "    model_name = element[0]\n",
    "    model = element[1]\n",
    "    report = results_per_model[i]\n",
    "    \n",
    "    with mlflow.start_run(run_name=model_name):        \n",
    "            mlflow.log_param(\"model\", model_name)\n",
    "            \n",
    "            \n",
    "            # -------------Class interpretation---------------- \n",
    "            #0 : Average\n",
    "            #1 : Excellent\n",
    "            #2 : Good\n",
    "            #3 : Very Good\n",
    "\n",
    "            #Metrics of class 0\n",
    "            \n",
    "            mlflow.log_metric('acurracy_class_0', report['0']['precision'])\n",
    "            mlflow.log_metric('recall_class_0', report['0']['recall'])\n",
    "            mlflow.log_metric('f1_class_0', report['0']['f1-score'])\n",
    "            \n",
    "            #Metrics of class 1\n",
    "             \n",
    "            mlflow.log_metric('acurracy_class_1', report['1']['precision'])\n",
    "            mlflow.log_metric('recall_class_1', report['1']['recall'])\n",
    "            mlflow.log_metric('f1_class_1', report['1']['f1-score'])\n",
    "            \n",
    "            #Metrics of class 2\n",
    "            \n",
    "            mlflow.log_metric('acurracy_class_2', report['2']['precision'])\n",
    "            mlflow.log_metric('recall_class_2', report['2']['recall'])\n",
    "            mlflow.log_metric('f1_class_2', report['2']['f1-score'])\n",
    "            \n",
    "            #Metrics of class 3\n",
    "            \n",
    "            mlflow.log_metric('acurracy_class_3', report['3']['precision'])\n",
    "            mlflow.log_metric('recall_class_3', report['3']['recall'])\n",
    "            mlflow.log_metric('f1_class_3', report['3']['f1-score'])\n",
    "            \n",
    "        \n",
    "            if \"XGB\" in model_name:\n",
    "                mlflow.xgboost.log_model(model, \"model\")\n",
    "            else:\n",
    "                mlflow.sklearn.log_model(model, \"model\") \n",
    "                \n"
   ]
  }
 ],
 "metadata": {
  "kernelspec": {
   "display_name": "base",
   "language": "python",
   "name": "python3"
  },
  "language_info": {
   "codemirror_mode": {
    "name": "ipython",
    "version": 3
   },
   "file_extension": ".py",
   "mimetype": "text/x-python",
   "name": "python",
   "nbconvert_exporter": "python",
   "pygments_lexer": "ipython3",
   "version": "3.11.7"
  }
 },
 "nbformat": 4,
 "nbformat_minor": 2
}
