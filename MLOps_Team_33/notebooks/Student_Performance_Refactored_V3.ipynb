{
 "cells": [
  {
   "cell_type": "code",
   "execution_count": 1,
   "id": "5949a1ef-5606-4861-9793-f8c0b20ccbde",
   "metadata": {},
   "outputs": [],
   "source": [
    "%load_ext autoreload\n",
    "%autoreload 2\n",
    "\n",
    "from src.stages.data_load import data_load\n",
    "from src.stages.data_explorer import DataExplorer"
   ]
  },
  {
   "cell_type": "code",
   "execution_count": 2,
   "id": "a02eace5-222d-419f-b253-2c43a6cf6a7e",
   "metadata": {},
   "outputs": [
    {
     "name": "stdout",
     "output_type": "stream",
     "text": [
      "/home/mekteck/MLOps/MLOps_Team_33/MLOps_Team_33\n"
     ]
    },
    {
     "name": "stderr",
     "output_type": "stream",
     "text": [
      "/home/mekteck/.local/lib/python3.10/site-packages/IPython/core/magics/osm.py:417: UserWarning: This is now an optional IPython functionality, setting dhist requires you to install the `pickleshare` library.\n",
      "  self.shell.db['dhist'] = compress_dhist(dhist)[-100:]\n"
     ]
    }
   ],
   "source": [
    "%cd .."
   ]
  },
  {
   "cell_type": "code",
   "execution_count": 3,
   "id": "e737ed89-3d32-4f03-9bfc-e5d8b16ffcff",
   "metadata": {},
   "outputs": [],
   "source": [
    "df = data_load('params.yaml')"
   ]
  },
  {
   "cell_type": "code",
   "execution_count": 4,
   "id": "5385a269-0068-4ab6-b018-f9eae8a0866e",
   "metadata": {},
   "outputs": [],
   "source": [
    "explorer = DataExplorer('params.yaml')\n",
    "explorer.run_all(df)"
   ]
  },
  {
   "cell_type": "code",
   "execution_count": null,
   "id": "3afff51e-b070-4e93-8efb-7cd7f3111d23",
   "metadata": {},
   "outputs": [],
   "source": []
  }
 ],
 "metadata": {
  "kernelspec": {
   "display_name": "Python 3 (ipykernel)",
   "language": "python",
   "name": "python3"
  },
  "language_info": {
   "codemirror_mode": {
    "name": "ipython",
    "version": 3
   },
   "file_extension": ".py",
   "mimetype": "text/x-python",
   "name": "python",
   "nbconvert_exporter": "python",
   "pygments_lexer": "ipython3",
   "version": "3.10.12"
  }
 },
 "nbformat": 4,
 "nbformat_minor": 5
}
