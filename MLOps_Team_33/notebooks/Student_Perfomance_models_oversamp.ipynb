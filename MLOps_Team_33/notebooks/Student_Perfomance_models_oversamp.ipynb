{
 "cells": [
  {
   "cell_type": "markdown",
   "metadata": {},
   "source": [
    "# Setup"
   ]
  },
  {
   "cell_type": "code",
   "execution_count": 1,
   "metadata": {},
   "outputs": [],
   "source": [
    "import pandas as pd\n",
    "import os\n",
    "import numpy as np\n",
    "from scipy.io import arff\n",
    "import seaborn as sns\n",
    "import matplotlib.pyplot as plt\n",
    "from sklearn.preprocessing import LabelEncoder\n",
    "from sklearn.preprocessing import OneHotEncoder\n",
    "from sklearn.compose import ColumnTransformer\n",
    "from sklearn.model_selection import train_test_split\n",
    "from sklearn.ensemble import RandomForestClassifier\n",
    "from sklearn.linear_model import LogisticRegression\n",
    "from sklearn.neural_network import MLPClassifier\n",
    "from sklearn.metrics import classification_report\n",
    "from sklearn.neighbors import KNeighborsClassifier\n",
    "from sklearn.svm import SVC\n",
    "from xgboost import XGBClassifier\n",
    "from imblearn.combine import SMOTETomek\n",
    "import mlflow\n",
    "import mlflow.sklearn\n",
    "import mlflow.xgboost\n",
    "from sklearn.metrics import accuracy_score, recall_score, precision_score, confusion_matrix\n",
    "import warnings\n",
    "warnings.filterwarnings('ignore', category=FutureWarning)"
   ]
  },
  {
   "cell_type": "markdown",
   "metadata": {},
   "source": [
    "# Loading the data"
   ]
  },
  {
   "cell_type": "code",
   "execution_count": 2,
   "metadata": {},
   "outputs": [
    {
     "name": "stdout",
     "output_type": "stream",
     "text": [
      "<class 'pandas.core.frame.DataFrame'>\n",
      "RangeIndex: 666 entries, 0 to 665\n",
      "Data columns (total 12 columns):\n",
      " #   Column                Non-Null Count  Dtype \n",
      "---  ------                --------------  ----- \n",
      " 0   Performance           666 non-null    object\n",
      " 1   Gender                666 non-null    object\n",
      " 2   Caste                 666 non-null    object\n",
      " 3   coaching              666 non-null    object\n",
      " 4   time                  666 non-null    object\n",
      " 5   Class_ten_education   666 non-null    object\n",
      " 6   twelve_education      666 non-null    object\n",
      " 7   medium                666 non-null    object\n",
      " 8   Class_ X_Percentage   666 non-null    object\n",
      " 9   Class_XII_Percentage  666 non-null    object\n",
      " 10  Father_occupation     666 non-null    object\n",
      " 11  Mother_occupation     666 non-null    object\n",
      "dtypes: object(12)\n",
      "memory usage: 62.6+ KB\n"
     ]
    }
   ],
   "source": [
    "#Get route of the path\n",
    "current_path = os.getcwd()\n",
    "aux_curr_path = current_path\n",
    "project_path = aux_curr_path.replace('/notebooks', '')\n",
    "dataset_path = \"dataset/CEE_DATA.arff\"\n",
    "dataset_path = os.path.join(project_path, dataset_path)\n",
    "\n",
    "data, meta = arff.loadarff(dataset_path)\n",
    "\n",
    "df = pd.DataFrame(data)\n",
    "df = df.applymap(lambda x: x.decode('utf-8') if isinstance(x, bytes) else x) #Encoding from byte to string \n",
    "df.info()"
   ]
  },
  {
   "cell_type": "markdown",
   "metadata": {},
   "source": [
    "            #0 : Average -  157\n",
    "            #1 : Excellent - 101\n",
    "            #2 : Good - 210\n",
    "            #3 : Very Good - 198"
   ]
  },
  {
   "cell_type": "markdown",
   "metadata": {},
   "source": [
    "# Preprocessing and Feature Engineering"
   ]
  },
  {
   "cell_type": "code",
   "execution_count": 3,
   "metadata": {},
   "outputs": [],
   "source": [
    "columns_of_interest=[\"Performance\",'Class_ X_Percentage', 'Class_XII_Percentage', 'medium', 'Caste']\n",
    "updated_df=df[columns_of_interest]"
   ]
  },
  {
   "cell_type": "code",
   "execution_count": 4,
   "metadata": {},
   "outputs": [],
   "source": [
    "y= updated_df[['Performance']]"
   ]
  },
  {
   "cell_type": "code",
   "execution_count": 5,
   "metadata": {},
   "outputs": [
    {
     "name": "stderr",
     "output_type": "stream",
     "text": [
      "/opt/anaconda3/lib/python3.11/site-packages/sklearn/preprocessing/_label.py:116: DataConversionWarning: A column-vector y was passed when a 1d array was expected. Please change the shape of y to (n_samples, ), for example using ravel().\n",
      "  y = column_or_1d(y, warn=True)\n"
     ]
    }
   ],
   "source": [
    "#Create oneHot enconder object\n",
    "enc_OneHot = OneHotEncoder(sparse_output=False)\n",
    "\n",
    "#Applying OneHot\n",
    "y_OneHot = enc_OneHot.fit_transform(y)\n",
    "\n",
    "#Create Label encoder object\n",
    "ord_enc=LabelEncoder()\n",
    "\n",
    "#Applying LabelEnconder to y\n",
    "df[\"y_ord_enc\"]=ord_enc.fit_transform(y)\n",
    "y_Label = df[\"y_ord_enc\"]\n"
   ]
  },
  {
   "cell_type": "code",
   "execution_count": 6,
   "metadata": {},
   "outputs": [
    {
     "data": {
      "text/html": [
       "<div>\n",
       "<style scoped>\n",
       "    .dataframe tbody tr th:only-of-type {\n",
       "        vertical-align: middle;\n",
       "    }\n",
       "\n",
       "    .dataframe tbody tr th {\n",
       "        vertical-align: top;\n",
       "    }\n",
       "\n",
       "    .dataframe thead th {\n",
       "        text-align: right;\n",
       "    }\n",
       "</style>\n",
       "<table border=\"1\" class=\"dataframe\">\n",
       "  <thead>\n",
       "    <tr style=\"text-align: right;\">\n",
       "      <th></th>\n",
       "      <th>Performance</th>\n",
       "      <th>Class_ X_Percentage</th>\n",
       "      <th>Class_XII_Percentage</th>\n",
       "      <th>medium</th>\n",
       "      <th>Caste</th>\n",
       "      <th>y_coding_col</th>\n",
       "    </tr>\n",
       "  </thead>\n",
       "  <tbody>\n",
       "    <tr>\n",
       "      <th>0</th>\n",
       "      <td>Excellent</td>\n",
       "      <td>Excellent</td>\n",
       "      <td>Excellent</td>\n",
       "      <td>ENGLISH</td>\n",
       "      <td>General</td>\n",
       "      <td>1</td>\n",
       "    </tr>\n",
       "    <tr>\n",
       "      <th>1</th>\n",
       "      <td>Excellent</td>\n",
       "      <td>Excellent</td>\n",
       "      <td>Excellent</td>\n",
       "      <td>OTHERS</td>\n",
       "      <td>OBC</td>\n",
       "      <td>1</td>\n",
       "    </tr>\n",
       "    <tr>\n",
       "      <th>2</th>\n",
       "      <td>Excellent</td>\n",
       "      <td>Excellent</td>\n",
       "      <td>Excellent</td>\n",
       "      <td>ENGLISH</td>\n",
       "      <td>OBC</td>\n",
       "      <td>1</td>\n",
       "    </tr>\n",
       "    <tr>\n",
       "      <th>3</th>\n",
       "      <td>Excellent</td>\n",
       "      <td>Excellent</td>\n",
       "      <td>Excellent</td>\n",
       "      <td>OTHERS</td>\n",
       "      <td>General</td>\n",
       "      <td>1</td>\n",
       "    </tr>\n",
       "    <tr>\n",
       "      <th>4</th>\n",
       "      <td>Excellent</td>\n",
       "      <td>Excellent</td>\n",
       "      <td>Excellent</td>\n",
       "      <td>ENGLISH</td>\n",
       "      <td>General</td>\n",
       "      <td>1</td>\n",
       "    </tr>\n",
       "    <tr>\n",
       "      <th>...</th>\n",
       "      <td>...</td>\n",
       "      <td>...</td>\n",
       "      <td>...</td>\n",
       "      <td>...</td>\n",
       "      <td>...</td>\n",
       "      <td>...</td>\n",
       "    </tr>\n",
       "    <tr>\n",
       "      <th>661</th>\n",
       "      <td>Average</td>\n",
       "      <td>Good</td>\n",
       "      <td>Vg</td>\n",
       "      <td>ENGLISH</td>\n",
       "      <td>ST</td>\n",
       "      <td>0</td>\n",
       "    </tr>\n",
       "    <tr>\n",
       "      <th>662</th>\n",
       "      <td>Average</td>\n",
       "      <td>Vg</td>\n",
       "      <td>Good</td>\n",
       "      <td>ENGLISH</td>\n",
       "      <td>ST</td>\n",
       "      <td>0</td>\n",
       "    </tr>\n",
       "    <tr>\n",
       "      <th>663</th>\n",
       "      <td>Average</td>\n",
       "      <td>Good</td>\n",
       "      <td>Vg</td>\n",
       "      <td>ENGLISH</td>\n",
       "      <td>ST</td>\n",
       "      <td>0</td>\n",
       "    </tr>\n",
       "    <tr>\n",
       "      <th>664</th>\n",
       "      <td>Average</td>\n",
       "      <td>Good</td>\n",
       "      <td>Good</td>\n",
       "      <td>ENGLISH</td>\n",
       "      <td>ST</td>\n",
       "      <td>0</td>\n",
       "    </tr>\n",
       "    <tr>\n",
       "      <th>665</th>\n",
       "      <td>Average</td>\n",
       "      <td>Vg</td>\n",
       "      <td>Good</td>\n",
       "      <td>ENGLISH</td>\n",
       "      <td>ST</td>\n",
       "      <td>0</td>\n",
       "    </tr>\n",
       "  </tbody>\n",
       "</table>\n",
       "<p>666 rows × 6 columns</p>\n",
       "</div>"
      ],
      "text/plain": [
       "    Performance Class_ X_Percentage Class_XII_Percentage   medium    Caste  \\\n",
       "0     Excellent           Excellent            Excellent  ENGLISH  General   \n",
       "1     Excellent           Excellent            Excellent   OTHERS      OBC   \n",
       "2     Excellent           Excellent            Excellent  ENGLISH      OBC   \n",
       "3     Excellent           Excellent            Excellent   OTHERS  General   \n",
       "4     Excellent           Excellent            Excellent  ENGLISH  General   \n",
       "..          ...                 ...                  ...      ...      ...   \n",
       "661     Average                Good                   Vg  ENGLISH       ST   \n",
       "662     Average                  Vg                 Good  ENGLISH       ST   \n",
       "663     Average                Good                   Vg  ENGLISH       ST   \n",
       "664     Average                Good                 Good  ENGLISH       ST   \n",
       "665     Average                  Vg                 Good  ENGLISH       ST   \n",
       "\n",
       "     y_coding_col  \n",
       "0               1  \n",
       "1               1  \n",
       "2               1  \n",
       "3               1  \n",
       "4               1  \n",
       "..            ...  \n",
       "661             0  \n",
       "662             0  \n",
       "663             0  \n",
       "664             0  \n",
       "665             0  \n",
       "\n",
       "[666 rows x 6 columns]"
      ]
     },
     "execution_count": 6,
     "metadata": {},
     "output_type": "execute_result"
    }
   ],
   "source": [
    "updated_df = updated_df.assign(y_coding_col=y_Label.values)\n",
    "updated_df"
   ]
  },
  {
   "cell_type": "code",
   "execution_count": 7,
   "metadata": {},
   "outputs": [],
   "source": [
    "df_av_class_0 = updated_df[updated_df[\"y_coding_col\"]==0]\n",
    "df_ex_class_1 = updated_df[updated_df[\"y_coding_col\"]==1]\n",
    "df_gd_class_2 = updated_df[updated_df[\"y_coding_col\"]==2]\n",
    "df_vg_class_3 = updated_df[updated_df[\"y_coding_col\"]==3]"
   ]
  },
  {
   "cell_type": "code",
   "execution_count": 8,
   "metadata": {},
   "outputs": [
    {
     "data": {
      "text/plain": [
       "y_coding_col\n",
       "2    210\n",
       "3    198\n",
       "0    157\n",
       "1    101\n",
       "Name: count, dtype: int64"
      ]
     },
     "execution_count": 8,
     "metadata": {},
     "output_type": "execute_result"
    }
   ],
   "source": [
    "updated_df.y_coding_col.value_counts()"
   ]
  },
  {
   "cell_type": "markdown",
   "metadata": {},
   "source": [
    "--------"
   ]
  },
  {
   "cell_type": "code",
   "execution_count": 9,
   "metadata": {},
   "outputs": [
    {
     "data": {
      "text/plain": [
       "Performance\n",
       "Average      180\n",
       "Excellent    180\n",
       "Good         180\n",
       "Vg           180\n",
       "Name: count, dtype: int64"
      ]
     },
     "execution_count": 9,
     "metadata": {},
     "output_type": "execute_result"
    }
   ],
   "source": [
    "Number_of_samples = 180\n",
    "\n",
    "#Oversampling\n",
    "df_av_class_0_over =  df_av_class_0.sample(Number_of_samples, replace=True)\n",
    "df_ex_class_1_over =  df_ex_class_1.sample(Number_of_samples, replace=True)\n",
    "\n",
    "#Undersampling\n",
    "df_gd_class_2_under = df_gd_class_2.sample(Number_of_samples)\n",
    "df_vg_class_3_under = df_vg_class_3.sample(Number_of_samples)\n",
    "\n",
    "df_mod_samples = pd.concat([df_av_class_0_over,\n",
    "                            df_ex_class_1_over,\n",
    "                            df_gd_class_2_under,\n",
    "                            df_vg_class_3_under],axis=0) \n",
    "\n",
    "df_mod_samples.Performance.value_counts()"
   ]
  },
  {
   "cell_type": "code",
   "execution_count": 10,
   "metadata": {},
   "outputs": [
    {
     "data": {
      "text/html": [
       "<div>\n",
       "<style scoped>\n",
       "    .dataframe tbody tr th:only-of-type {\n",
       "        vertical-align: middle;\n",
       "    }\n",
       "\n",
       "    .dataframe tbody tr th {\n",
       "        vertical-align: top;\n",
       "    }\n",
       "\n",
       "    .dataframe thead th {\n",
       "        text-align: right;\n",
       "    }\n",
       "</style>\n",
       "<table border=\"1\" class=\"dataframe\">\n",
       "  <thead>\n",
       "    <tr style=\"text-align: right;\">\n",
       "      <th></th>\n",
       "      <th>Performance</th>\n",
       "      <th>Class_ X_Percentage</th>\n",
       "      <th>Class_XII_Percentage</th>\n",
       "      <th>medium</th>\n",
       "      <th>Caste</th>\n",
       "      <th>y_coding_col</th>\n",
       "    </tr>\n",
       "  </thead>\n",
       "  <tbody>\n",
       "    <tr>\n",
       "      <th>578</th>\n",
       "      <td>Average</td>\n",
       "      <td>Vg</td>\n",
       "      <td>Vg</td>\n",
       "      <td>ENGLISH</td>\n",
       "      <td>ST</td>\n",
       "      <td>0</td>\n",
       "    </tr>\n",
       "    <tr>\n",
       "      <th>605</th>\n",
       "      <td>Average</td>\n",
       "      <td>Excellent</td>\n",
       "      <td>Vg</td>\n",
       "      <td>ENGLISH</td>\n",
       "      <td>ST</td>\n",
       "      <td>0</td>\n",
       "    </tr>\n",
       "    <tr>\n",
       "      <th>537</th>\n",
       "      <td>Average</td>\n",
       "      <td>Excellent</td>\n",
       "      <td>Excellent</td>\n",
       "      <td>ENGLISH</td>\n",
       "      <td>SC</td>\n",
       "      <td>0</td>\n",
       "    </tr>\n",
       "    <tr>\n",
       "      <th>503</th>\n",
       "      <td>Average</td>\n",
       "      <td>Excellent</td>\n",
       "      <td>Excellent</td>\n",
       "      <td>ASSAMESE</td>\n",
       "      <td>OBC</td>\n",
       "      <td>0</td>\n",
       "    </tr>\n",
       "    <tr>\n",
       "      <th>552</th>\n",
       "      <td>Average</td>\n",
       "      <td>Vg</td>\n",
       "      <td>Vg</td>\n",
       "      <td>ENGLISH</td>\n",
       "      <td>SC</td>\n",
       "      <td>0</td>\n",
       "    </tr>\n",
       "  </tbody>\n",
       "</table>\n",
       "</div>"
      ],
      "text/plain": [
       "    Performance Class_ X_Percentage Class_XII_Percentage    medium Caste  \\\n",
       "578     Average                  Vg                   Vg   ENGLISH    ST   \n",
       "605     Average           Excellent                   Vg   ENGLISH    ST   \n",
       "537     Average           Excellent            Excellent   ENGLISH    SC   \n",
       "503     Average           Excellent            Excellent  ASSAMESE   OBC   \n",
       "552     Average                  Vg                   Vg   ENGLISH    SC   \n",
       "\n",
       "     y_coding_col  \n",
       "578             0  \n",
       "605             0  \n",
       "537             0  \n",
       "503             0  \n",
       "552             0  "
      ]
     },
     "execution_count": 10,
     "metadata": {},
     "output_type": "execute_result"
    }
   ],
   "source": [
    "df_mod_samples.head()"
   ]
  },
  {
   "cell_type": "markdown",
   "metadata": {},
   "source": [
    "------"
   ]
  },
  {
   "cell_type": "code",
   "execution_count": 11,
   "metadata": {},
   "outputs": [
    {
     "data": {
      "text/plain": [
       "Index(['Performance', 'Class_ X_Percentage', 'Class_XII_Percentage', 'medium',\n",
       "       'Caste', 'y_coding_col'],\n",
       "      dtype='object')"
      ]
     },
     "execution_count": 11,
     "metadata": {},
     "output_type": "execute_result"
    }
   ],
   "source": [
    "df_mod_samples.columns"
   ]
  },
  {
   "cell_type": "code",
   "execution_count": 12,
   "metadata": {},
   "outputs": [],
   "source": [
    "cols2drop = [\"Performance\", 'y_coding_col']\n",
    "X = df_mod_samples.drop(cols2drop, axis=1)\n",
    "\n",
    "\n",
    "y = df_mod_samples[[\"Performance\"]]"
   ]
  },
  {
   "cell_type": "code",
   "execution_count": 13,
   "metadata": {},
   "outputs": [
    {
     "data": {
      "text/html": [
       "<div>\n",
       "<style scoped>\n",
       "    .dataframe tbody tr th:only-of-type {\n",
       "        vertical-align: middle;\n",
       "    }\n",
       "\n",
       "    .dataframe tbody tr th {\n",
       "        vertical-align: top;\n",
       "    }\n",
       "\n",
       "    .dataframe thead th {\n",
       "        text-align: right;\n",
       "    }\n",
       "</style>\n",
       "<table border=\"1\" class=\"dataframe\">\n",
       "  <thead>\n",
       "    <tr style=\"text-align: right;\">\n",
       "      <th></th>\n",
       "      <th>Class_ X_Percentage</th>\n",
       "      <th>Class_XII_Percentage</th>\n",
       "      <th>medium</th>\n",
       "      <th>Caste</th>\n",
       "    </tr>\n",
       "  </thead>\n",
       "  <tbody>\n",
       "    <tr>\n",
       "      <th>578</th>\n",
       "      <td>Vg</td>\n",
       "      <td>Vg</td>\n",
       "      <td>ENGLISH</td>\n",
       "      <td>ST</td>\n",
       "    </tr>\n",
       "    <tr>\n",
       "      <th>605</th>\n",
       "      <td>Excellent</td>\n",
       "      <td>Vg</td>\n",
       "      <td>ENGLISH</td>\n",
       "      <td>ST</td>\n",
       "    </tr>\n",
       "    <tr>\n",
       "      <th>537</th>\n",
       "      <td>Excellent</td>\n",
       "      <td>Excellent</td>\n",
       "      <td>ENGLISH</td>\n",
       "      <td>SC</td>\n",
       "    </tr>\n",
       "    <tr>\n",
       "      <th>503</th>\n",
       "      <td>Excellent</td>\n",
       "      <td>Excellent</td>\n",
       "      <td>ASSAMESE</td>\n",
       "      <td>OBC</td>\n",
       "    </tr>\n",
       "    <tr>\n",
       "      <th>552</th>\n",
       "      <td>Vg</td>\n",
       "      <td>Vg</td>\n",
       "      <td>ENGLISH</td>\n",
       "      <td>SC</td>\n",
       "    </tr>\n",
       "    <tr>\n",
       "      <th>...</th>\n",
       "      <td>...</td>\n",
       "      <td>...</td>\n",
       "      <td>...</td>\n",
       "      <td>...</td>\n",
       "    </tr>\n",
       "    <tr>\n",
       "      <th>136</th>\n",
       "      <td>Excellent</td>\n",
       "      <td>Excellent</td>\n",
       "      <td>OTHERS</td>\n",
       "      <td>General</td>\n",
       "    </tr>\n",
       "    <tr>\n",
       "      <th>189</th>\n",
       "      <td>Good</td>\n",
       "      <td>Vg</td>\n",
       "      <td>ENGLISH</td>\n",
       "      <td>OBC</td>\n",
       "    </tr>\n",
       "    <tr>\n",
       "      <th>250</th>\n",
       "      <td>Excellent</td>\n",
       "      <td>Excellent</td>\n",
       "      <td>ENGLISH</td>\n",
       "      <td>General</td>\n",
       "    </tr>\n",
       "    <tr>\n",
       "      <th>173</th>\n",
       "      <td>Excellent</td>\n",
       "      <td>Vg</td>\n",
       "      <td>OTHERS</td>\n",
       "      <td>OBC</td>\n",
       "    </tr>\n",
       "    <tr>\n",
       "      <th>252</th>\n",
       "      <td>Excellent</td>\n",
       "      <td>Excellent</td>\n",
       "      <td>ENGLISH</td>\n",
       "      <td>OBC</td>\n",
       "    </tr>\n",
       "  </tbody>\n",
       "</table>\n",
       "<p>720 rows × 4 columns</p>\n",
       "</div>"
      ],
      "text/plain": [
       "    Class_ X_Percentage Class_XII_Percentage    medium    Caste\n",
       "578                  Vg                   Vg   ENGLISH       ST\n",
       "605           Excellent                   Vg   ENGLISH       ST\n",
       "537           Excellent            Excellent   ENGLISH       SC\n",
       "503           Excellent            Excellent  ASSAMESE      OBC\n",
       "552                  Vg                   Vg   ENGLISH       SC\n",
       "..                  ...                  ...       ...      ...\n",
       "136           Excellent            Excellent    OTHERS  General\n",
       "189                Good                   Vg   ENGLISH      OBC\n",
       "250           Excellent            Excellent   ENGLISH  General\n",
       "173           Excellent                   Vg    OTHERS      OBC\n",
       "252           Excellent            Excellent   ENGLISH      OBC\n",
       "\n",
       "[720 rows x 4 columns]"
      ]
     },
     "execution_count": 13,
     "metadata": {},
     "output_type": "execute_result"
    }
   ],
   "source": [
    "X"
   ]
  },
  {
   "cell_type": "code",
   "execution_count": 14,
   "metadata": {},
   "outputs": [
    {
     "data": {
      "text/html": [
       "<div>\n",
       "<style scoped>\n",
       "    .dataframe tbody tr th:only-of-type {\n",
       "        vertical-align: middle;\n",
       "    }\n",
       "\n",
       "    .dataframe tbody tr th {\n",
       "        vertical-align: top;\n",
       "    }\n",
       "\n",
       "    .dataframe thead th {\n",
       "        text-align: right;\n",
       "    }\n",
       "</style>\n",
       "<table border=\"1\" class=\"dataframe\">\n",
       "  <thead>\n",
       "    <tr style=\"text-align: right;\">\n",
       "      <th></th>\n",
       "      <th>Performance</th>\n",
       "    </tr>\n",
       "  </thead>\n",
       "  <tbody>\n",
       "    <tr>\n",
       "      <th>578</th>\n",
       "      <td>Average</td>\n",
       "    </tr>\n",
       "    <tr>\n",
       "      <th>605</th>\n",
       "      <td>Average</td>\n",
       "    </tr>\n",
       "    <tr>\n",
       "      <th>537</th>\n",
       "      <td>Average</td>\n",
       "    </tr>\n",
       "    <tr>\n",
       "      <th>503</th>\n",
       "      <td>Average</td>\n",
       "    </tr>\n",
       "    <tr>\n",
       "      <th>552</th>\n",
       "      <td>Average</td>\n",
       "    </tr>\n",
       "    <tr>\n",
       "      <th>...</th>\n",
       "      <td>...</td>\n",
       "    </tr>\n",
       "    <tr>\n",
       "      <th>136</th>\n",
       "      <td>Vg</td>\n",
       "    </tr>\n",
       "    <tr>\n",
       "      <th>189</th>\n",
       "      <td>Vg</td>\n",
       "    </tr>\n",
       "    <tr>\n",
       "      <th>250</th>\n",
       "      <td>Vg</td>\n",
       "    </tr>\n",
       "    <tr>\n",
       "      <th>173</th>\n",
       "      <td>Vg</td>\n",
       "    </tr>\n",
       "    <tr>\n",
       "      <th>252</th>\n",
       "      <td>Vg</td>\n",
       "    </tr>\n",
       "  </tbody>\n",
       "</table>\n",
       "<p>720 rows × 1 columns</p>\n",
       "</div>"
      ],
      "text/plain": [
       "    Performance\n",
       "578     Average\n",
       "605     Average\n",
       "537     Average\n",
       "503     Average\n",
       "552     Average\n",
       "..          ...\n",
       "136          Vg\n",
       "189          Vg\n",
       "250          Vg\n",
       "173          Vg\n",
       "252          Vg\n",
       "\n",
       "[720 rows x 1 columns]"
      ]
     },
     "execution_count": 14,
     "metadata": {},
     "output_type": "execute_result"
    }
   ],
   "source": [
    "y"
   ]
  },
  {
   "cell_type": "code",
   "execution_count": 15,
   "metadata": {},
   "outputs": [],
   "source": [
    "#Columns to apply one hot enconder\n",
    "col_X=['Class_ X_Percentage', 'Class_XII_Percentage', 'medium', 'Caste']\n",
    "\n",
    "#Create the transformer\n",
    "ct= ColumnTransformer(\n",
    "    transformers=[\n",
    "    (\"OneHotInXColumns\", enc_OneHot,col_X)\n",
    "                      ]\n",
    ")"
   ]
  },
  {
   "cell_type": "code",
   "execution_count": 17,
   "metadata": {},
   "outputs": [],
   "source": [
    "# Applying OneHot to X\n",
    "X = ct.fit_transform(X)"
   ]
  },
  {
   "cell_type": "code",
   "execution_count": 18,
   "metadata": {},
   "outputs": [
    {
     "data": {
      "text/plain": [
       "array([[0., 0., 0., ..., 0., 0., 1.],\n",
       "       [0., 1., 0., ..., 0., 0., 1.],\n",
       "       [0., 1., 0., ..., 0., 1., 0.],\n",
       "       ...,\n",
       "       [0., 1., 0., ..., 0., 0., 0.],\n",
       "       [0., 1., 0., ..., 1., 0., 0.],\n",
       "       [0., 1., 0., ..., 1., 0., 0.]])"
      ]
     },
     "execution_count": 18,
     "metadata": {},
     "output_type": "execute_result"
    }
   ],
   "source": [
    "X"
   ]
  },
  {
   "cell_type": "code",
   "execution_count": 19,
   "metadata": {},
   "outputs": [
    {
     "data": {
      "text/html": [
       "<div>\n",
       "<style scoped>\n",
       "    .dataframe tbody tr th:only-of-type {\n",
       "        vertical-align: middle;\n",
       "    }\n",
       "\n",
       "    .dataframe tbody tr th {\n",
       "        vertical-align: top;\n",
       "    }\n",
       "\n",
       "    .dataframe thead th {\n",
       "        text-align: right;\n",
       "    }\n",
       "</style>\n",
       "<table border=\"1\" class=\"dataframe\">\n",
       "  <thead>\n",
       "    <tr style=\"text-align: right;\">\n",
       "      <th></th>\n",
       "      <th>Performance</th>\n",
       "    </tr>\n",
       "  </thead>\n",
       "  <tbody>\n",
       "    <tr>\n",
       "      <th>578</th>\n",
       "      <td>Average</td>\n",
       "    </tr>\n",
       "    <tr>\n",
       "      <th>605</th>\n",
       "      <td>Average</td>\n",
       "    </tr>\n",
       "    <tr>\n",
       "      <th>537</th>\n",
       "      <td>Average</td>\n",
       "    </tr>\n",
       "    <tr>\n",
       "      <th>503</th>\n",
       "      <td>Average</td>\n",
       "    </tr>\n",
       "    <tr>\n",
       "      <th>552</th>\n",
       "      <td>Average</td>\n",
       "    </tr>\n",
       "    <tr>\n",
       "      <th>...</th>\n",
       "      <td>...</td>\n",
       "    </tr>\n",
       "    <tr>\n",
       "      <th>136</th>\n",
       "      <td>Vg</td>\n",
       "    </tr>\n",
       "    <tr>\n",
       "      <th>189</th>\n",
       "      <td>Vg</td>\n",
       "    </tr>\n",
       "    <tr>\n",
       "      <th>250</th>\n",
       "      <td>Vg</td>\n",
       "    </tr>\n",
       "    <tr>\n",
       "      <th>173</th>\n",
       "      <td>Vg</td>\n",
       "    </tr>\n",
       "    <tr>\n",
       "      <th>252</th>\n",
       "      <td>Vg</td>\n",
       "    </tr>\n",
       "  </tbody>\n",
       "</table>\n",
       "<p>720 rows × 1 columns</p>\n",
       "</div>"
      ],
      "text/plain": [
       "    Performance\n",
       "578     Average\n",
       "605     Average\n",
       "537     Average\n",
       "503     Average\n",
       "552     Average\n",
       "..          ...\n",
       "136          Vg\n",
       "189          Vg\n",
       "250          Vg\n",
       "173          Vg\n",
       "252          Vg\n",
       "\n",
       "[720 rows x 1 columns]"
      ]
     },
     "execution_count": 19,
     "metadata": {},
     "output_type": "execute_result"
    }
   ],
   "source": [
    "y"
   ]
  },
  {
   "cell_type": "code",
   "execution_count": 20,
   "metadata": {},
   "outputs": [
    {
     "data": {
      "text/plain": [
       "0      1\n",
       "1      1\n",
       "2      1\n",
       "3      1\n",
       "4      1\n",
       "      ..\n",
       "661    0\n",
       "662    0\n",
       "663    0\n",
       "664    0\n",
       "665    0\n",
       "Name: y_ord_enc, Length: 666, dtype: int64"
      ]
     },
     "execution_count": 20,
     "metadata": {},
     "output_type": "execute_result"
    }
   ],
   "source": [
    "y_Label"
   ]
  },
  {
   "cell_type": "code",
   "execution_count": 21,
   "metadata": {},
   "outputs": [],
   "source": [
    "#Applying OneHot\n",
    "y_OneHot = enc_OneHot.fit_transform(y)\n",
    "\n",
    "#Get Label enconder\n",
    "y_Label = df_mod_samples[\"y_coding_col\"]"
   ]
  },
  {
   "cell_type": "code",
   "execution_count": 22,
   "metadata": {},
   "outputs": [
    {
     "data": {
      "text/plain": [
       "array([[1., 0., 0., 0.],\n",
       "       [1., 0., 0., 0.],\n",
       "       [1., 0., 0., 0.],\n",
       "       ...,\n",
       "       [0., 0., 0., 1.],\n",
       "       [0., 0., 0., 1.],\n",
       "       [0., 0., 0., 1.]])"
      ]
     },
     "execution_count": 22,
     "metadata": {},
     "output_type": "execute_result"
    }
   ],
   "source": [
    "y_OneHot"
   ]
  },
  {
   "cell_type": "code",
   "execution_count": 23,
   "metadata": {},
   "outputs": [
    {
     "data": {
      "text/plain": [
       "578    0\n",
       "605    0\n",
       "537    0\n",
       "503    0\n",
       "552    0\n",
       "      ..\n",
       "136    3\n",
       "189    3\n",
       "250    3\n",
       "173    3\n",
       "252    3\n",
       "Name: y_coding_col, Length: 720, dtype: int64"
      ]
     },
     "execution_count": 23,
     "metadata": {},
     "output_type": "execute_result"
    }
   ],
   "source": [
    "y_Label"
   ]
  },
  {
   "cell_type": "markdown",
   "metadata": {},
   "source": [
    "-------"
   ]
  },
  {
   "cell_type": "code",
   "execution_count": null,
   "metadata": {},
   "outputs": [],
   "source": []
  },
  {
   "cell_type": "code",
   "execution_count": null,
   "metadata": {},
   "outputs": [],
   "source": []
  },
  {
   "cell_type": "markdown",
   "metadata": {},
   "source": [
    "# Splitting the dataset"
   ]
  },
  {
   "cell_type": "code",
   "execution_count": 24,
   "metadata": {},
   "outputs": [],
   "source": [
    "#Split the dataset for y_OneHot\n",
    "X_train, X_test, y_train_OneHot, y_test_OneHot = train_test_split(X, y_OneHot, test_size=0.2, random_state=42)\n",
    "\n",
    "#Split the dataset for y_Label (Pandas Series)\n",
    "X_train, X_test, y_train_Label, y_test_Label = train_test_split(X, y_Label, test_size=0.2, random_state=42)\n",
    "\n"
   ]
  },
  {
   "cell_type": "code",
   "execution_count": 37,
   "metadata": {},
   "outputs": [
    {
     "name": "stdout",
     "output_type": "stream",
     "text": [
      "              precision    recall  f1-score   support\n",
      "\n",
      "           0       0.84      0.80      0.82        40\n",
      "           1       0.50      0.07      0.12        42\n",
      "           2       0.22      0.06      0.10        31\n",
      "           3       1.00      0.10      0.18        31\n",
      "\n",
      "   micro avg       0.71      0.28      0.40       144\n",
      "   macro avg       0.64      0.26      0.31       144\n",
      "weighted avg       0.64      0.28      0.32       144\n",
      " samples avg       0.28      0.28      0.28       144\n",
      "\n"
     ]
    },
    {
     "name": "stderr",
     "output_type": "stream",
     "text": [
      "/opt/anaconda3/lib/python3.11/site-packages/sklearn/metrics/_classification.py:1344: UndefinedMetricWarning: Precision and F-score are ill-defined and being set to 0.0 in samples with no predicted labels. Use `zero_division` parameter to control this behavior.\n",
      "  _warn_prf(average, modifier, msg_start, len(result))\n"
     ]
    }
   ],
   "source": [
    "clf = RandomForestClassifier(n_estimators=100)\n",
    "clf.fit(X_train, y_train_OneHot)\n",
    "y_pred = clf.predict(X_test)\n",
    "\n",
    "\n",
    "\n",
    "print(classification_report(y_test_OneHot, y_pred))"
   ]
  },
  {
   "cell_type": "code",
   "execution_count": 26,
   "metadata": {},
   "outputs": [],
   "source": [
    "\n",
    "Experiments = [\n",
    "    (\n",
    "        \"Random Forest n_estimators=100\", \n",
    "        RandomForestClassifier(class_weight=\"balanced\"),\n",
    "        (X_train, y_train_OneHot),\n",
    "        (X_test, y_test_OneHot)\n",
    "    ),\n",
    "\n",
    "    (\n",
    "        \"XGBoost\",\n",
    "        XGBClassifier(use_label_encoder=False, eval_metric='logloss'),\n",
    "        (X_train, y_train_OneHot),\n",
    "        (X_test, y_test_OneHot)\n",
    "    ),\n",
    "    \n",
    "    (\n",
    "         \"Multinomial Logistic Regression\",\n",
    "        LogisticRegression(multi_class='multinomial', solver='lbfgs', max_iter=200),\n",
    "        (X_train, y_train_Label),\n",
    "        (X_test, y_test_Label)\n",
    "    ),\n",
    "    \n",
    "     (\n",
    "        \"K-Nearest Neighbors\",\n",
    "        KNeighborsClassifier(n_neighbors=5),\n",
    "        (X_train, y_train_Label),\n",
    "        (X_test, y_test_Label)\n",
    "    ),\n",
    "    \n",
    "    (\n",
    "        \"MLP\",\n",
    "        MLPClassifier(hidden_layer_sizes=(100,), max_iter=300, activation='relu', solver='adam'),\n",
    "        (X_train, y_train_OneHot),\n",
    "        (X_test, y_test_OneHot)\n",
    "    ),\n",
    "    \n",
    "    (\n",
    "        \"Support Vector Classifier\",\n",
    "        SVC(kernel='linear', probability=True),  \n",
    "        (X_train, y_train_Label),\n",
    "        (X_test, y_test_Label)\n",
    "    )\n",
    "    \n",
    "    \n",
    "]\n"
   ]
  },
  {
   "cell_type": "code",
   "execution_count": 27,
   "metadata": {},
   "outputs": [
    {
     "name": "stderr",
     "output_type": "stream",
     "text": [
      "/opt/anaconda3/lib/python3.11/site-packages/sklearn/metrics/_classification.py:1344: UndefinedMetricWarning: Precision and F-score are ill-defined and being set to 0.0 in samples with no predicted labels. Use `zero_division` parameter to control this behavior.\n",
      "  _warn_prf(average, modifier, msg_start, len(result))\n",
      "/opt/anaconda3/lib/python3.11/site-packages/xgboost/core.py:158: UserWarning: [16:32:26] WARNING: /Users/runner/work/xgboost/xgboost/src/learner.cc:740: \n",
      "Parameters: { \"use_label_encoder\" } are not used.\n",
      "\n",
      "  warnings.warn(smsg, UserWarning)\n",
      "/opt/anaconda3/lib/python3.11/site-packages/sklearn/metrics/_classification.py:1344: UndefinedMetricWarning: Precision and F-score are ill-defined and being set to 0.0 in samples with no predicted labels. Use `zero_division` parameter to control this behavior.\n",
      "  _warn_prf(average, modifier, msg_start, len(result))\n",
      "/opt/anaconda3/lib/python3.11/site-packages/sklearn/neural_network/_multilayer_perceptron.py:686: ConvergenceWarning: Stochastic Optimizer: Maximum iterations (300) reached and the optimization hasn't converged yet.\n",
      "  warnings.warn(\n",
      "/opt/anaconda3/lib/python3.11/site-packages/sklearn/metrics/_classification.py:1344: UndefinedMetricWarning: Precision and F-score are ill-defined and being set to 0.0 in samples with no predicted labels. Use `zero_division` parameter to control this behavior.\n",
      "  _warn_prf(average, modifier, msg_start, len(result))\n"
     ]
    }
   ],
   "source": [
    "results_per_model = []\n",
    "\n",
    "for model_name, model, train_set, test_set in Experiments:\n",
    "    X_train = train_set[0] #get Xtrain from the list models\n",
    "    y_train = train_set[1] #get y_train from list models\n",
    "    X_test = test_set[0]    #get x_test from list models \n",
    "    y_test = test_set[1]   #get y_test from list models\n",
    "    \n",
    "    model.fit(X_train, y_train)  #train the current model\n",
    "    y_pred = model.predict(X_test) #make predictions \n",
    "    report = classification_report(y_test, y_pred, output_dict=True) #make a dict of the classification report\n",
    "    \n",
    "    \n",
    "    results_per_model.append(report) #add the previus dict to a list"
   ]
  },
  {
   "cell_type": "code",
   "execution_count": 38,
   "metadata": {},
   "outputs": [
    {
     "data": {
      "text/plain": [
       "[{'0': {'precision': 0.8421052631578947,\n",
       "   'recall': 0.8,\n",
       "   'f1-score': 0.8205128205128205,\n",
       "   'support': 40},\n",
       "  '1': {'precision': 0.5714285714285714,\n",
       "   'recall': 0.09523809523809523,\n",
       "   'f1-score': 0.16326530612244897,\n",
       "   'support': 42},\n",
       "  '2': {'precision': 0.25,\n",
       "   'recall': 0.06451612903225806,\n",
       "   'f1-score': 0.10256410256410256,\n",
       "   'support': 31},\n",
       "  '3': {'precision': 0.625,\n",
       "   'recall': 0.16129032258064516,\n",
       "   'f1-score': 0.2564102564102564,\n",
       "   'support': 31},\n",
       "  'micro avg': {'precision': 0.7049180327868853,\n",
       "   'recall': 0.2986111111111111,\n",
       "   'f1-score': 0.41951219512195126,\n",
       "   'support': 144},\n",
       "  'macro avg': {'precision': 0.5721334586466165,\n",
       "   'recall': 0.28026113671274966,\n",
       "   'f1-score': 0.3356881214024071,\n",
       "   'support': 144},\n",
       "  'weighted avg': {'precision': 0.588952850877193,\n",
       "   'recall': 0.2986111111111111,\n",
       "   'f1-score': 0.3528184778184778,\n",
       "   'support': 144},\n",
       "  'samples avg': {'precision': 0.2986111111111111,\n",
       "   'recall': 0.2986111111111111,\n",
       "   'f1-score': 0.2986111111111111,\n",
       "   'support': 144}},\n",
       " {'0': {'precision': 0.8648648648648649,\n",
       "   'recall': 0.8,\n",
       "   'f1-score': 0.8311688311688312,\n",
       "   'support': 40},\n",
       "  '1': {'precision': 0.5,\n",
       "   'recall': 0.07142857142857142,\n",
       "   'f1-score': 0.125,\n",
       "   'support': 42},\n",
       "  '2': {'precision': 0.36363636363636365,\n",
       "   'recall': 0.12903225806451613,\n",
       "   'f1-score': 0.19047619047619047,\n",
       "   'support': 31},\n",
       "  '3': {'precision': 1.0,\n",
       "   'recall': 0.0967741935483871,\n",
       "   'f1-score': 0.17647058823529413,\n",
       "   'support': 31},\n",
       "  'micro avg': {'precision': 0.7368421052631579,\n",
       "   'recall': 0.2916666666666667,\n",
       "   'f1-score': 0.41791044776119407,\n",
       "   'support': 144},\n",
       "  'macro avg': {'precision': 0.6821253071253072,\n",
       "   'recall': 0.2743087557603686,\n",
       "   'f1-score': 0.33077890247007896,\n",
       "   'support': 144},\n",
       "  'weighted avg': {'precision': 0.6796341796341796,\n",
       "   'recall': 0.2916666666666667,\n",
       "   'f1-score': 0.3463340512972866,\n",
       "   'support': 144},\n",
       "  'samples avg': {'precision': 0.2916666666666667,\n",
       "   'recall': 0.2916666666666667,\n",
       "   'f1-score': 0.2916666666666667,\n",
       "   'support': 144}},\n",
       " {'0': {'precision': 0.8043478260869565,\n",
       "   'recall': 0.925,\n",
       "   'f1-score': 0.8604651162790697,\n",
       "   'support': 40},\n",
       "  '1': {'precision': 0.4838709677419355,\n",
       "   'recall': 0.7142857142857143,\n",
       "   'f1-score': 0.5769230769230769,\n",
       "   'support': 42},\n",
       "  '2': {'precision': 0.2692307692307692,\n",
       "   'recall': 0.22580645161290322,\n",
       "   'f1-score': 0.2456140350877193,\n",
       "   'support': 31},\n",
       "  '3': {'precision': 0.3,\n",
       "   'recall': 0.0967741935483871,\n",
       "   'f1-score': 0.14634146341463414,\n",
       "   'support': 31},\n",
       "  'accuracy': 0.5347222222222222,\n",
       "  'macro avg': {'precision': 0.4643623907649153,\n",
       "   'recall': 0.4904665898617511,\n",
       "   'f1-score': 0.457335922926125,\n",
       "   'support': 144},\n",
       "  'weighted avg': {'precision': 0.4871017189916209,\n",
       "   'recall': 0.5347222222222222,\n",
       "   'f1-score': 0.4916666273298957,\n",
       "   'support': 144}},\n",
       " {'0': {'precision': 0.782608695652174,\n",
       "   'recall': 0.9,\n",
       "   'f1-score': 0.8372093023255814,\n",
       "   'support': 40},\n",
       "  '1': {'precision': 0.25,\n",
       "   'recall': 0.09523809523809523,\n",
       "   'f1-score': 0.13793103448275862,\n",
       "   'support': 42},\n",
       "  '2': {'precision': 0.20967741935483872,\n",
       "   'recall': 0.41935483870967744,\n",
       "   'f1-score': 0.2795698924731183,\n",
       "   'support': 31},\n",
       "  '3': {'precision': 0.3,\n",
       "   'recall': 0.1935483870967742,\n",
       "   'f1-score': 0.23529411764705882,\n",
       "   'support': 31},\n",
       "  'accuracy': 0.4097222222222222,\n",
       "  'macro avg': {'precision': 0.38557152875175316,\n",
       "   'recall': 0.40203533026113675,\n",
       "   'f1-score': 0.3725010867321293,\n",
       "   'support': 144},\n",
       "  'weighted avg': {'precision': 0.40003019323671496,\n",
       "   'recall': 0.4097222222222222,\n",
       "   'f1-score': 0.38362680454878206,\n",
       "   'support': 144}},\n",
       " {'0': {'precision': 0.8648648648648649,\n",
       "   'recall': 0.8,\n",
       "   'f1-score': 0.8311688311688312,\n",
       "   'support': 40},\n",
       "  '1': {'precision': 0.75,\n",
       "   'recall': 0.07142857142857142,\n",
       "   'f1-score': 0.13043478260869565,\n",
       "   'support': 42},\n",
       "  '2': {'precision': 0.2857142857142857,\n",
       "   'recall': 0.06451612903225806,\n",
       "   'f1-score': 0.10526315789473685,\n",
       "   'support': 31},\n",
       "  '3': {'precision': 1.0,\n",
       "   'recall': 0.0967741935483871,\n",
       "   'f1-score': 0.17647058823529413,\n",
       "   'support': 31},\n",
       "  'micro avg': {'precision': 0.7843137254901961,\n",
       "   'recall': 0.2777777777777778,\n",
       "   'f1-score': 0.4102564102564103,\n",
       "   'support': 144},\n",
       "  'macro avg': {'precision': 0.7251447876447876,\n",
       "   'recall': 0.2581797235023041,\n",
       "   'f1-score': 0.3108343399768895,\n",
       "   'support': 144},\n",
       "  'weighted avg': {'precision': 0.7357759545259546,\n",
       "   'recall': 0.2777777777777778,\n",
       "   'f1-score': 0.32957472393298215,\n",
       "   'support': 144},\n",
       "  'samples avg': {'precision': 0.2777777777777778,\n",
       "   'recall': 0.2777777777777778,\n",
       "   'f1-score': 0.2777777777777778,\n",
       "   'support': 144}},\n",
       " {'0': {'precision': 0.8125,\n",
       "   'recall': 0.975,\n",
       "   'f1-score': 0.8863636363636362,\n",
       "   'support': 40},\n",
       "  '1': {'precision': 0.47619047619047616,\n",
       "   'recall': 0.7142857142857143,\n",
       "   'f1-score': 0.5714285714285714,\n",
       "   'support': 42},\n",
       "  '2': {'precision': 0.3333333333333333,\n",
       "   'recall': 0.1935483870967742,\n",
       "   'f1-score': 0.24489795918367346,\n",
       "   'support': 31},\n",
       "  '3': {'precision': 0.4,\n",
       "   'recall': 0.1935483870967742,\n",
       "   'f1-score': 0.26086956521739135,\n",
       "   'support': 31},\n",
       "  'accuracy': 0.5625,\n",
       "  'macro avg': {'precision': 0.5055059523809524,\n",
       "   'recall': 0.5190956221198156,\n",
       "   'f1-score': 0.49088993304831813,\n",
       "   'support': 144},\n",
       "  'weighted avg': {'precision': 0.5224537037037037,\n",
       "   'recall': 0.5625,\n",
       "   'f1-score': 0.521759296604017,\n",
       "   'support': 144}}]"
      ]
     },
     "execution_count": 38,
     "metadata": {},
     "output_type": "execute_result"
    }
   ],
   "source": [
    "results_per_model"
   ]
  },
  {
   "cell_type": "code",
   "execution_count": 29,
   "metadata": {},
   "outputs": [
    {
     "name": "stdout",
     "output_type": "stream",
     "text": [
      "              precision    recall  f1-score   support\n",
      "\n",
      "           0       0.84      0.80      0.82        40\n",
      "           1       0.50      0.07      0.12        42\n",
      "           2       0.36      0.13      0.19        31\n",
      "           3       1.00      0.10      0.18        31\n",
      "\n",
      "   micro avg       0.72      0.29      0.42       144\n",
      "   macro avg       0.68      0.27      0.33       144\n",
      "weighted avg       0.67      0.29      0.34       144\n",
      " samples avg       0.29      0.29      0.29       144\n",
      "\n"
     ]
    },
    {
     "name": "stderr",
     "output_type": "stream",
     "text": [
      "/opt/anaconda3/lib/python3.11/site-packages/sklearn/metrics/_classification.py:1344: UndefinedMetricWarning: Precision and F-score are ill-defined and being set to 0.0 in samples with no predicted labels. Use `zero_division` parameter to control this behavior.\n",
      "  _warn_prf(average, modifier, msg_start, len(result))\n"
     ]
    }
   ],
   "source": [
    "clf = RandomForestClassifier(n_estimators=100)\n",
    "clf.fit(X_train, y_train_OneHot)\n",
    "y_pred = clf.predict(X_test)\n",
    "\n",
    "\n",
    "\n",
    "print(classification_report(y_test_OneHot, y_pred))"
   ]
  }
 ],
 "metadata": {
  "kernelspec": {
   "display_name": "base",
   "language": "python",
   "name": "python3"
  },
  "language_info": {
   "codemirror_mode": {
    "name": "ipython",
    "version": 3
   },
   "file_extension": ".py",
   "mimetype": "text/x-python",
   "name": "python",
   "nbconvert_exporter": "python",
   "pygments_lexer": "ipython3",
   "version": "3.11.7"
  }
 },
 "nbformat": 4,
 "nbformat_minor": 2
}
