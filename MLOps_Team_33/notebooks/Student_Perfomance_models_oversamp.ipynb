{
 "cells": [
  {
   "cell_type": "markdown",
   "metadata": {},
   "source": [
    "# Setup"
   ]
  },
  {
   "cell_type": "code",
   "execution_count": 29,
   "metadata": {},
   "outputs": [],
   "source": [
    "import pandas as pd\n",
    "import os\n",
    "import numpy as np\n",
    "from scipy.io import arff\n",
    "import seaborn as sns\n",
    "import matplotlib.pyplot as plt\n",
    "from sklearn.preprocessing import LabelEncoder\n",
    "from sklearn.preprocessing import OneHotEncoder\n",
    "from sklearn.compose import ColumnTransformer\n",
    "from sklearn.model_selection import train_test_split\n",
    "from sklearn.ensemble import RandomForestClassifier\n",
    "from sklearn.linear_model import LogisticRegression\n",
    "from sklearn.neural_network import MLPClassifier\n",
    "from sklearn.metrics import classification_report\n",
    "from sklearn.neighbors import KNeighborsClassifier\n",
    "from sklearn.svm import SVC\n",
    "from xgboost import XGBClassifier\n",
    "from imblearn.combine import SMOTETomek\n",
    "import mlflow\n",
    "import mlflow.sklearn\n",
    "import mlflow.xgboost\n",
    "from sklearn.metrics import accuracy_score, recall_score, precision_score, confusion_matrix\n",
    "import warnings\n",
    "warnings.filterwarnings('ignore', category=FutureWarning)"
   ]
  },
  {
   "cell_type": "markdown",
   "metadata": {},
   "source": [
    "# Loading the data"
   ]
  },
  {
   "cell_type": "code",
   "execution_count": 30,
   "metadata": {},
   "outputs": [
    {
     "name": "stdout",
     "output_type": "stream",
     "text": [
      "<class 'pandas.core.frame.DataFrame'>\n",
      "RangeIndex: 666 entries, 0 to 665\n",
      "Data columns (total 12 columns):\n",
      " #   Column                Non-Null Count  Dtype \n",
      "---  ------                --------------  ----- \n",
      " 0   Performance           666 non-null    object\n",
      " 1   Gender                666 non-null    object\n",
      " 2   Caste                 666 non-null    object\n",
      " 3   coaching              666 non-null    object\n",
      " 4   time                  666 non-null    object\n",
      " 5   Class_ten_education   666 non-null    object\n",
      " 6   twelve_education      666 non-null    object\n",
      " 7   medium                666 non-null    object\n",
      " 8   Class_ X_Percentage   666 non-null    object\n",
      " 9   Class_XII_Percentage  666 non-null    object\n",
      " 10  Father_occupation     666 non-null    object\n",
      " 11  Mother_occupation     666 non-null    object\n",
      "dtypes: object(12)\n",
      "memory usage: 62.6+ KB\n"
     ]
    }
   ],
   "source": [
    "#Get route of the path\n",
    "current_path = os.getcwd()\n",
    "aux_curr_path = current_path\n",
    "project_path = aux_curr_path.replace('/notebooks', '')\n",
    "dataset_path = \"dataset/CEE_DATA.arff\"\n",
    "dataset_path = os.path.join(project_path, dataset_path)\n",
    "\n",
    "data, meta = arff.loadarff(dataset_path)\n",
    "\n",
    "df = pd.DataFrame(data)\n",
    "df = df.applymap(lambda x: x.decode('utf-8') if isinstance(x, bytes) else x) #Encoding from byte to string \n",
    "df.info()"
   ]
  },
  {
   "cell_type": "markdown",
   "metadata": {},
   "source": [
    "            #0 : Average -  157\n",
    "            #1 : Excellent - 101\n",
    "            #2 : Good - 210\n",
    "            #3 : Very Good - 198"
   ]
  },
  {
   "cell_type": "markdown",
   "metadata": {},
   "source": [
    "# Preprocessing and Feature Engineering"
   ]
  },
  {
   "cell_type": "code",
   "execution_count": 31,
   "metadata": {},
   "outputs": [],
   "source": [
    "columns_of_interest=[\"Performance\",'Class_ X_Percentage', 'Class_XII_Percentage', 'medium', 'Caste']\n",
    "updated_df=df[columns_of_interest]"
   ]
  },
  {
   "cell_type": "code",
   "execution_count": 32,
   "metadata": {},
   "outputs": [],
   "source": [
    "y= updated_df[['Performance']]"
   ]
  },
  {
   "cell_type": "code",
   "execution_count": 33,
   "metadata": {},
   "outputs": [
    {
     "name": "stderr",
     "output_type": "stream",
     "text": [
      "/opt/anaconda3/lib/python3.11/site-packages/sklearn/preprocessing/_label.py:116: DataConversionWarning: A column-vector y was passed when a 1d array was expected. Please change the shape of y to (n_samples, ), for example using ravel().\n",
      "  y = column_or_1d(y, warn=True)\n"
     ]
    }
   ],
   "source": [
    "#Create oneHot enconder object\n",
    "enc_OneHot = OneHotEncoder(sparse_output=False)\n",
    "\n",
    "#Applying OneHot\n",
    "y_OneHot = enc_OneHot.fit_transform(y)\n",
    "\n",
    "#Create Label encoder object\n",
    "ord_enc=LabelEncoder()\n",
    "\n",
    "#Applying LabelEnconder to y\n",
    "df[\"y_ord_enc\"]=ord_enc.fit_transform(y)\n",
    "y_Label = df[\"y_ord_enc\"]\n"
   ]
  },
  {
   "cell_type": "code",
   "execution_count": 34,
   "metadata": {},
   "outputs": [
    {
     "data": {
      "text/html": [
       "<div>\n",
       "<style scoped>\n",
       "    .dataframe tbody tr th:only-of-type {\n",
       "        vertical-align: middle;\n",
       "    }\n",
       "\n",
       "    .dataframe tbody tr th {\n",
       "        vertical-align: top;\n",
       "    }\n",
       "\n",
       "    .dataframe thead th {\n",
       "        text-align: right;\n",
       "    }\n",
       "</style>\n",
       "<table border=\"1\" class=\"dataframe\">\n",
       "  <thead>\n",
       "    <tr style=\"text-align: right;\">\n",
       "      <th></th>\n",
       "      <th>Performance</th>\n",
       "      <th>Class_ X_Percentage</th>\n",
       "      <th>Class_XII_Percentage</th>\n",
       "      <th>medium</th>\n",
       "      <th>Caste</th>\n",
       "      <th>y_coding_col</th>\n",
       "    </tr>\n",
       "  </thead>\n",
       "  <tbody>\n",
       "    <tr>\n",
       "      <th>0</th>\n",
       "      <td>Excellent</td>\n",
       "      <td>Excellent</td>\n",
       "      <td>Excellent</td>\n",
       "      <td>ENGLISH</td>\n",
       "      <td>General</td>\n",
       "      <td>1</td>\n",
       "    </tr>\n",
       "    <tr>\n",
       "      <th>1</th>\n",
       "      <td>Excellent</td>\n",
       "      <td>Excellent</td>\n",
       "      <td>Excellent</td>\n",
       "      <td>OTHERS</td>\n",
       "      <td>OBC</td>\n",
       "      <td>1</td>\n",
       "    </tr>\n",
       "    <tr>\n",
       "      <th>2</th>\n",
       "      <td>Excellent</td>\n",
       "      <td>Excellent</td>\n",
       "      <td>Excellent</td>\n",
       "      <td>ENGLISH</td>\n",
       "      <td>OBC</td>\n",
       "      <td>1</td>\n",
       "    </tr>\n",
       "    <tr>\n",
       "      <th>3</th>\n",
       "      <td>Excellent</td>\n",
       "      <td>Excellent</td>\n",
       "      <td>Excellent</td>\n",
       "      <td>OTHERS</td>\n",
       "      <td>General</td>\n",
       "      <td>1</td>\n",
       "    </tr>\n",
       "    <tr>\n",
       "      <th>4</th>\n",
       "      <td>Excellent</td>\n",
       "      <td>Excellent</td>\n",
       "      <td>Excellent</td>\n",
       "      <td>ENGLISH</td>\n",
       "      <td>General</td>\n",
       "      <td>1</td>\n",
       "    </tr>\n",
       "    <tr>\n",
       "      <th>...</th>\n",
       "      <td>...</td>\n",
       "      <td>...</td>\n",
       "      <td>...</td>\n",
       "      <td>...</td>\n",
       "      <td>...</td>\n",
       "      <td>...</td>\n",
       "    </tr>\n",
       "    <tr>\n",
       "      <th>661</th>\n",
       "      <td>Average</td>\n",
       "      <td>Good</td>\n",
       "      <td>Vg</td>\n",
       "      <td>ENGLISH</td>\n",
       "      <td>ST</td>\n",
       "      <td>0</td>\n",
       "    </tr>\n",
       "    <tr>\n",
       "      <th>662</th>\n",
       "      <td>Average</td>\n",
       "      <td>Vg</td>\n",
       "      <td>Good</td>\n",
       "      <td>ENGLISH</td>\n",
       "      <td>ST</td>\n",
       "      <td>0</td>\n",
       "    </tr>\n",
       "    <tr>\n",
       "      <th>663</th>\n",
       "      <td>Average</td>\n",
       "      <td>Good</td>\n",
       "      <td>Vg</td>\n",
       "      <td>ENGLISH</td>\n",
       "      <td>ST</td>\n",
       "      <td>0</td>\n",
       "    </tr>\n",
       "    <tr>\n",
       "      <th>664</th>\n",
       "      <td>Average</td>\n",
       "      <td>Good</td>\n",
       "      <td>Good</td>\n",
       "      <td>ENGLISH</td>\n",
       "      <td>ST</td>\n",
       "      <td>0</td>\n",
       "    </tr>\n",
       "    <tr>\n",
       "      <th>665</th>\n",
       "      <td>Average</td>\n",
       "      <td>Vg</td>\n",
       "      <td>Good</td>\n",
       "      <td>ENGLISH</td>\n",
       "      <td>ST</td>\n",
       "      <td>0</td>\n",
       "    </tr>\n",
       "  </tbody>\n",
       "</table>\n",
       "<p>666 rows × 6 columns</p>\n",
       "</div>"
      ],
      "text/plain": [
       "    Performance Class_ X_Percentage Class_XII_Percentage   medium    Caste  \\\n",
       "0     Excellent           Excellent            Excellent  ENGLISH  General   \n",
       "1     Excellent           Excellent            Excellent   OTHERS      OBC   \n",
       "2     Excellent           Excellent            Excellent  ENGLISH      OBC   \n",
       "3     Excellent           Excellent            Excellent   OTHERS  General   \n",
       "4     Excellent           Excellent            Excellent  ENGLISH  General   \n",
       "..          ...                 ...                  ...      ...      ...   \n",
       "661     Average                Good                   Vg  ENGLISH       ST   \n",
       "662     Average                  Vg                 Good  ENGLISH       ST   \n",
       "663     Average                Good                   Vg  ENGLISH       ST   \n",
       "664     Average                Good                 Good  ENGLISH       ST   \n",
       "665     Average                  Vg                 Good  ENGLISH       ST   \n",
       "\n",
       "     y_coding_col  \n",
       "0               1  \n",
       "1               1  \n",
       "2               1  \n",
       "3               1  \n",
       "4               1  \n",
       "..            ...  \n",
       "661             0  \n",
       "662             0  \n",
       "663             0  \n",
       "664             0  \n",
       "665             0  \n",
       "\n",
       "[666 rows x 6 columns]"
      ]
     },
     "execution_count": 34,
     "metadata": {},
     "output_type": "execute_result"
    }
   ],
   "source": [
    "updated_df = updated_df.assign(y_coding_col=y_Label.values)\n",
    "updated_df"
   ]
  },
  {
   "cell_type": "code",
   "execution_count": 35,
   "metadata": {},
   "outputs": [],
   "source": [
    "df_av_class_0 = updated_df[updated_df[\"y_coding_col\"]==0]\n",
    "df_ex_class_1 = updated_df[updated_df[\"y_coding_col\"]==1]\n",
    "df_gd_class_2 = updated_df[updated_df[\"y_coding_col\"]==2]\n",
    "df_vg_class_3 = updated_df[updated_df[\"y_coding_col\"]==3]"
   ]
  },
  {
   "cell_type": "code",
   "execution_count": 36,
   "metadata": {},
   "outputs": [
    {
     "data": {
      "text/plain": [
       "y_coding_col\n",
       "2    210\n",
       "3    198\n",
       "0    157\n",
       "1    101\n",
       "Name: count, dtype: int64"
      ]
     },
     "execution_count": 36,
     "metadata": {},
     "output_type": "execute_result"
    }
   ],
   "source": [
    "updated_df.y_coding_col.value_counts()"
   ]
  },
  {
   "cell_type": "markdown",
   "metadata": {},
   "source": [
    "--------"
   ]
  },
  {
   "cell_type": "code",
   "execution_count": 37,
   "metadata": {},
   "outputs": [
    {
     "data": {
      "text/plain": [
       "Performance\n",
       "Average      180\n",
       "Excellent    180\n",
       "Good         180\n",
       "Vg           180\n",
       "Name: count, dtype: int64"
      ]
     },
     "execution_count": 37,
     "metadata": {},
     "output_type": "execute_result"
    }
   ],
   "source": [
    "Number_of_samples = 180\n",
    "\n",
    "#Oversampling\n",
    "df_av_class_0_over =  df_av_class_0.sample(Number_of_samples, replace=True)\n",
    "df_ex_class_1_over =  df_ex_class_1.sample(Number_of_samples, replace=True)\n",
    "\n",
    "#Undersampling\n",
    "df_gd_class_2_under = df_gd_class_2.sample(Number_of_samples)\n",
    "df_vg_class_3_under = df_vg_class_3.sample(Number_of_samples)\n",
    "\n",
    "df_mod_samples = pd.concat([df_av_class_0_over,\n",
    "                            df_ex_class_1_over,\n",
    "                            df_gd_class_2_under,\n",
    "                            df_vg_class_3_under],axis=0) \n",
    "\n",
    "df_mod_samples.Performance.value_counts()"
   ]
  },
  {
   "cell_type": "code",
   "execution_count": 38,
   "metadata": {},
   "outputs": [
    {
     "data": {
      "text/html": [
       "<div>\n",
       "<style scoped>\n",
       "    .dataframe tbody tr th:only-of-type {\n",
       "        vertical-align: middle;\n",
       "    }\n",
       "\n",
       "    .dataframe tbody tr th {\n",
       "        vertical-align: top;\n",
       "    }\n",
       "\n",
       "    .dataframe thead th {\n",
       "        text-align: right;\n",
       "    }\n",
       "</style>\n",
       "<table border=\"1\" class=\"dataframe\">\n",
       "  <thead>\n",
       "    <tr style=\"text-align: right;\">\n",
       "      <th></th>\n",
       "      <th>Performance</th>\n",
       "      <th>Class_ X_Percentage</th>\n",
       "      <th>Class_XII_Percentage</th>\n",
       "      <th>medium</th>\n",
       "      <th>Caste</th>\n",
       "      <th>y_coding_col</th>\n",
       "    </tr>\n",
       "  </thead>\n",
       "  <tbody>\n",
       "    <tr>\n",
       "      <th>600</th>\n",
       "      <td>Average</td>\n",
       "      <td>Excellent</td>\n",
       "      <td>Vg</td>\n",
       "      <td>ENGLISH</td>\n",
       "      <td>ST</td>\n",
       "      <td>0</td>\n",
       "    </tr>\n",
       "    <tr>\n",
       "      <th>571</th>\n",
       "      <td>Average</td>\n",
       "      <td>Excellent</td>\n",
       "      <td>Excellent</td>\n",
       "      <td>ENGLISH</td>\n",
       "      <td>ST</td>\n",
       "      <td>0</td>\n",
       "    </tr>\n",
       "    <tr>\n",
       "      <th>581</th>\n",
       "      <td>Average</td>\n",
       "      <td>Excellent</td>\n",
       "      <td>Excellent</td>\n",
       "      <td>ENGLISH</td>\n",
       "      <td>ST</td>\n",
       "      <td>0</td>\n",
       "    </tr>\n",
       "    <tr>\n",
       "      <th>538</th>\n",
       "      <td>Average</td>\n",
       "      <td>Vg</td>\n",
       "      <td>Vg</td>\n",
       "      <td>ENGLISH</td>\n",
       "      <td>SC</td>\n",
       "      <td>0</td>\n",
       "    </tr>\n",
       "    <tr>\n",
       "      <th>567</th>\n",
       "      <td>Average</td>\n",
       "      <td>Excellent</td>\n",
       "      <td>Excellent</td>\n",
       "      <td>ENGLISH</td>\n",
       "      <td>ST</td>\n",
       "      <td>0</td>\n",
       "    </tr>\n",
       "  </tbody>\n",
       "</table>\n",
       "</div>"
      ],
      "text/plain": [
       "    Performance Class_ X_Percentage Class_XII_Percentage   medium Caste  \\\n",
       "600     Average           Excellent                   Vg  ENGLISH    ST   \n",
       "571     Average           Excellent            Excellent  ENGLISH    ST   \n",
       "581     Average           Excellent            Excellent  ENGLISH    ST   \n",
       "538     Average                  Vg                   Vg  ENGLISH    SC   \n",
       "567     Average           Excellent            Excellent  ENGLISH    ST   \n",
       "\n",
       "     y_coding_col  \n",
       "600             0  \n",
       "571             0  \n",
       "581             0  \n",
       "538             0  \n",
       "567             0  "
      ]
     },
     "execution_count": 38,
     "metadata": {},
     "output_type": "execute_result"
    }
   ],
   "source": [
    "df_mod_samples.head()"
   ]
  },
  {
   "cell_type": "markdown",
   "metadata": {},
   "source": [
    "------"
   ]
  },
  {
   "cell_type": "code",
   "execution_count": 39,
   "metadata": {},
   "outputs": [
    {
     "data": {
      "text/plain": [
       "Index(['Performance', 'Class_ X_Percentage', 'Class_XII_Percentage', 'medium',\n",
       "       'Caste', 'y_coding_col'],\n",
       "      dtype='object')"
      ]
     },
     "execution_count": 39,
     "metadata": {},
     "output_type": "execute_result"
    }
   ],
   "source": [
    "df_mod_samples.columns"
   ]
  },
  {
   "cell_type": "code",
   "execution_count": 40,
   "metadata": {},
   "outputs": [],
   "source": [
    "cols2drop = [\"Performance\", 'y_coding_col']\n",
    "X = df_mod_samples.drop(cols2drop, axis=1)\n",
    "\n",
    "\n",
    "y = df_mod_samples[[\"Performance\"]]"
   ]
  },
  {
   "cell_type": "code",
   "execution_count": 41,
   "metadata": {},
   "outputs": [
    {
     "data": {
      "text/html": [
       "<div>\n",
       "<style scoped>\n",
       "    .dataframe tbody tr th:only-of-type {\n",
       "        vertical-align: middle;\n",
       "    }\n",
       "\n",
       "    .dataframe tbody tr th {\n",
       "        vertical-align: top;\n",
       "    }\n",
       "\n",
       "    .dataframe thead th {\n",
       "        text-align: right;\n",
       "    }\n",
       "</style>\n",
       "<table border=\"1\" class=\"dataframe\">\n",
       "  <thead>\n",
       "    <tr style=\"text-align: right;\">\n",
       "      <th></th>\n",
       "      <th>Class_ X_Percentage</th>\n",
       "      <th>Class_XII_Percentage</th>\n",
       "      <th>medium</th>\n",
       "      <th>Caste</th>\n",
       "    </tr>\n",
       "  </thead>\n",
       "  <tbody>\n",
       "    <tr>\n",
       "      <th>600</th>\n",
       "      <td>Excellent</td>\n",
       "      <td>Vg</td>\n",
       "      <td>ENGLISH</td>\n",
       "      <td>ST</td>\n",
       "    </tr>\n",
       "    <tr>\n",
       "      <th>571</th>\n",
       "      <td>Excellent</td>\n",
       "      <td>Excellent</td>\n",
       "      <td>ENGLISH</td>\n",
       "      <td>ST</td>\n",
       "    </tr>\n",
       "    <tr>\n",
       "      <th>581</th>\n",
       "      <td>Excellent</td>\n",
       "      <td>Excellent</td>\n",
       "      <td>ENGLISH</td>\n",
       "      <td>ST</td>\n",
       "    </tr>\n",
       "    <tr>\n",
       "      <th>538</th>\n",
       "      <td>Vg</td>\n",
       "      <td>Vg</td>\n",
       "      <td>ENGLISH</td>\n",
       "      <td>SC</td>\n",
       "    </tr>\n",
       "    <tr>\n",
       "      <th>567</th>\n",
       "      <td>Excellent</td>\n",
       "      <td>Excellent</td>\n",
       "      <td>ENGLISH</td>\n",
       "      <td>ST</td>\n",
       "    </tr>\n",
       "    <tr>\n",
       "      <th>...</th>\n",
       "      <td>...</td>\n",
       "      <td>...</td>\n",
       "      <td>...</td>\n",
       "      <td>...</td>\n",
       "    </tr>\n",
       "    <tr>\n",
       "      <th>260</th>\n",
       "      <td>Excellent</td>\n",
       "      <td>Vg</td>\n",
       "      <td>ASSAMESE</td>\n",
       "      <td>General</td>\n",
       "    </tr>\n",
       "    <tr>\n",
       "      <th>132</th>\n",
       "      <td>Excellent</td>\n",
       "      <td>Excellent</td>\n",
       "      <td>ENGLISH</td>\n",
       "      <td>General</td>\n",
       "    </tr>\n",
       "    <tr>\n",
       "      <th>109</th>\n",
       "      <td>Excellent</td>\n",
       "      <td>Excellent</td>\n",
       "      <td>ENGLISH</td>\n",
       "      <td>General</td>\n",
       "    </tr>\n",
       "    <tr>\n",
       "      <th>284</th>\n",
       "      <td>Excellent</td>\n",
       "      <td>Vg</td>\n",
       "      <td>ENGLISH</td>\n",
       "      <td>General</td>\n",
       "    </tr>\n",
       "    <tr>\n",
       "      <th>185</th>\n",
       "      <td>Excellent</td>\n",
       "      <td>Excellent</td>\n",
       "      <td>ENGLISH</td>\n",
       "      <td>General</td>\n",
       "    </tr>\n",
       "  </tbody>\n",
       "</table>\n",
       "<p>720 rows × 4 columns</p>\n",
       "</div>"
      ],
      "text/plain": [
       "    Class_ X_Percentage Class_XII_Percentage    medium    Caste\n",
       "600           Excellent                   Vg   ENGLISH       ST\n",
       "571           Excellent            Excellent   ENGLISH       ST\n",
       "581           Excellent            Excellent   ENGLISH       ST\n",
       "538                  Vg                   Vg   ENGLISH       SC\n",
       "567           Excellent            Excellent   ENGLISH       ST\n",
       "..                  ...                  ...       ...      ...\n",
       "260           Excellent                   Vg  ASSAMESE  General\n",
       "132           Excellent            Excellent   ENGLISH  General\n",
       "109           Excellent            Excellent   ENGLISH  General\n",
       "284           Excellent                   Vg   ENGLISH  General\n",
       "185           Excellent            Excellent   ENGLISH  General\n",
       "\n",
       "[720 rows x 4 columns]"
      ]
     },
     "execution_count": 41,
     "metadata": {},
     "output_type": "execute_result"
    }
   ],
   "source": [
    "X"
   ]
  },
  {
   "cell_type": "code",
   "execution_count": 42,
   "metadata": {},
   "outputs": [
    {
     "data": {
      "text/html": [
       "<div>\n",
       "<style scoped>\n",
       "    .dataframe tbody tr th:only-of-type {\n",
       "        vertical-align: middle;\n",
       "    }\n",
       "\n",
       "    .dataframe tbody tr th {\n",
       "        vertical-align: top;\n",
       "    }\n",
       "\n",
       "    .dataframe thead th {\n",
       "        text-align: right;\n",
       "    }\n",
       "</style>\n",
       "<table border=\"1\" class=\"dataframe\">\n",
       "  <thead>\n",
       "    <tr style=\"text-align: right;\">\n",
       "      <th></th>\n",
       "      <th>Performance</th>\n",
       "    </tr>\n",
       "  </thead>\n",
       "  <tbody>\n",
       "    <tr>\n",
       "      <th>600</th>\n",
       "      <td>Average</td>\n",
       "    </tr>\n",
       "    <tr>\n",
       "      <th>571</th>\n",
       "      <td>Average</td>\n",
       "    </tr>\n",
       "    <tr>\n",
       "      <th>581</th>\n",
       "      <td>Average</td>\n",
       "    </tr>\n",
       "    <tr>\n",
       "      <th>538</th>\n",
       "      <td>Average</td>\n",
       "    </tr>\n",
       "    <tr>\n",
       "      <th>567</th>\n",
       "      <td>Average</td>\n",
       "    </tr>\n",
       "    <tr>\n",
       "      <th>...</th>\n",
       "      <td>...</td>\n",
       "    </tr>\n",
       "    <tr>\n",
       "      <th>260</th>\n",
       "      <td>Vg</td>\n",
       "    </tr>\n",
       "    <tr>\n",
       "      <th>132</th>\n",
       "      <td>Vg</td>\n",
       "    </tr>\n",
       "    <tr>\n",
       "      <th>109</th>\n",
       "      <td>Vg</td>\n",
       "    </tr>\n",
       "    <tr>\n",
       "      <th>284</th>\n",
       "      <td>Vg</td>\n",
       "    </tr>\n",
       "    <tr>\n",
       "      <th>185</th>\n",
       "      <td>Vg</td>\n",
       "    </tr>\n",
       "  </tbody>\n",
       "</table>\n",
       "<p>720 rows × 1 columns</p>\n",
       "</div>"
      ],
      "text/plain": [
       "    Performance\n",
       "600     Average\n",
       "571     Average\n",
       "581     Average\n",
       "538     Average\n",
       "567     Average\n",
       "..          ...\n",
       "260          Vg\n",
       "132          Vg\n",
       "109          Vg\n",
       "284          Vg\n",
       "185          Vg\n",
       "\n",
       "[720 rows x 1 columns]"
      ]
     },
     "execution_count": 42,
     "metadata": {},
     "output_type": "execute_result"
    }
   ],
   "source": [
    "y"
   ]
  },
  {
   "cell_type": "code",
   "execution_count": 43,
   "metadata": {},
   "outputs": [],
   "source": [
    "#Columns to apply one hot enconder\n",
    "col_X=['Class_ X_Percentage', 'Class_XII_Percentage', 'medium', 'Caste']\n",
    "\n",
    "#Create the transformer\n",
    "ct= ColumnTransformer(\n",
    "    transformers=[\n",
    "    (\"OneHotInXColumns\", enc_OneHot,col_X)\n",
    "                      ]\n",
    ")"
   ]
  },
  {
   "cell_type": "code",
   "execution_count": 44,
   "metadata": {},
   "outputs": [],
   "source": [
    "# Applying OneHot to X\n",
    "X = ct.fit_transform(X)"
   ]
  },
  {
   "cell_type": "code",
   "execution_count": 45,
   "metadata": {},
   "outputs": [
    {
     "data": {
      "text/plain": [
       "array([[0., 1., 0., ..., 0., 0., 1.],\n",
       "       [0., 1., 0., ..., 0., 0., 1.],\n",
       "       [0., 1., 0., ..., 0., 0., 1.],\n",
       "       ...,\n",
       "       [0., 1., 0., ..., 0., 0., 0.],\n",
       "       [0., 1., 0., ..., 0., 0., 0.],\n",
       "       [0., 1., 0., ..., 0., 0., 0.]])"
      ]
     },
     "execution_count": 45,
     "metadata": {},
     "output_type": "execute_result"
    }
   ],
   "source": [
    "X"
   ]
  },
  {
   "cell_type": "code",
   "execution_count": 46,
   "metadata": {},
   "outputs": [
    {
     "data": {
      "text/html": [
       "<div>\n",
       "<style scoped>\n",
       "    .dataframe tbody tr th:only-of-type {\n",
       "        vertical-align: middle;\n",
       "    }\n",
       "\n",
       "    .dataframe tbody tr th {\n",
       "        vertical-align: top;\n",
       "    }\n",
       "\n",
       "    .dataframe thead th {\n",
       "        text-align: right;\n",
       "    }\n",
       "</style>\n",
       "<table border=\"1\" class=\"dataframe\">\n",
       "  <thead>\n",
       "    <tr style=\"text-align: right;\">\n",
       "      <th></th>\n",
       "      <th>Performance</th>\n",
       "    </tr>\n",
       "  </thead>\n",
       "  <tbody>\n",
       "    <tr>\n",
       "      <th>600</th>\n",
       "      <td>Average</td>\n",
       "    </tr>\n",
       "    <tr>\n",
       "      <th>571</th>\n",
       "      <td>Average</td>\n",
       "    </tr>\n",
       "    <tr>\n",
       "      <th>581</th>\n",
       "      <td>Average</td>\n",
       "    </tr>\n",
       "    <tr>\n",
       "      <th>538</th>\n",
       "      <td>Average</td>\n",
       "    </tr>\n",
       "    <tr>\n",
       "      <th>567</th>\n",
       "      <td>Average</td>\n",
       "    </tr>\n",
       "    <tr>\n",
       "      <th>...</th>\n",
       "      <td>...</td>\n",
       "    </tr>\n",
       "    <tr>\n",
       "      <th>260</th>\n",
       "      <td>Vg</td>\n",
       "    </tr>\n",
       "    <tr>\n",
       "      <th>132</th>\n",
       "      <td>Vg</td>\n",
       "    </tr>\n",
       "    <tr>\n",
       "      <th>109</th>\n",
       "      <td>Vg</td>\n",
       "    </tr>\n",
       "    <tr>\n",
       "      <th>284</th>\n",
       "      <td>Vg</td>\n",
       "    </tr>\n",
       "    <tr>\n",
       "      <th>185</th>\n",
       "      <td>Vg</td>\n",
       "    </tr>\n",
       "  </tbody>\n",
       "</table>\n",
       "<p>720 rows × 1 columns</p>\n",
       "</div>"
      ],
      "text/plain": [
       "    Performance\n",
       "600     Average\n",
       "571     Average\n",
       "581     Average\n",
       "538     Average\n",
       "567     Average\n",
       "..          ...\n",
       "260          Vg\n",
       "132          Vg\n",
       "109          Vg\n",
       "284          Vg\n",
       "185          Vg\n",
       "\n",
       "[720 rows x 1 columns]"
      ]
     },
     "execution_count": 46,
     "metadata": {},
     "output_type": "execute_result"
    }
   ],
   "source": [
    "y"
   ]
  },
  {
   "cell_type": "code",
   "execution_count": 47,
   "metadata": {},
   "outputs": [
    {
     "data": {
      "text/plain": [
       "0      1\n",
       "1      1\n",
       "2      1\n",
       "3      1\n",
       "4      1\n",
       "      ..\n",
       "661    0\n",
       "662    0\n",
       "663    0\n",
       "664    0\n",
       "665    0\n",
       "Name: y_ord_enc, Length: 666, dtype: int64"
      ]
     },
     "execution_count": 47,
     "metadata": {},
     "output_type": "execute_result"
    }
   ],
   "source": [
    "y_Label"
   ]
  },
  {
   "cell_type": "code",
   "execution_count": 48,
   "metadata": {},
   "outputs": [],
   "source": [
    "#Applying OneHot\n",
    "y_OneHot = enc_OneHot.fit_transform(y)\n",
    "\n",
    "#Get Label enconder\n",
    "y_Label = df_mod_samples[\"y_coding_col\"]"
   ]
  },
  {
   "cell_type": "code",
   "execution_count": 49,
   "metadata": {},
   "outputs": [
    {
     "data": {
      "text/plain": [
       "array([[1., 0., 0., 0.],\n",
       "       [1., 0., 0., 0.],\n",
       "       [1., 0., 0., 0.],\n",
       "       ...,\n",
       "       [0., 0., 0., 1.],\n",
       "       [0., 0., 0., 1.],\n",
       "       [0., 0., 0., 1.]])"
      ]
     },
     "execution_count": 49,
     "metadata": {},
     "output_type": "execute_result"
    }
   ],
   "source": [
    "y_OneHot"
   ]
  },
  {
   "cell_type": "code",
   "execution_count": 50,
   "metadata": {},
   "outputs": [
    {
     "data": {
      "text/plain": [
       "600    0\n",
       "571    0\n",
       "581    0\n",
       "538    0\n",
       "567    0\n",
       "      ..\n",
       "260    3\n",
       "132    3\n",
       "109    3\n",
       "284    3\n",
       "185    3\n",
       "Name: y_coding_col, Length: 720, dtype: int64"
      ]
     },
     "execution_count": 50,
     "metadata": {},
     "output_type": "execute_result"
    }
   ],
   "source": [
    "y_Label"
   ]
  },
  {
   "cell_type": "markdown",
   "metadata": {},
   "source": [
    "-------"
   ]
  },
  {
   "cell_type": "code",
   "execution_count": null,
   "metadata": {},
   "outputs": [],
   "source": []
  },
  {
   "cell_type": "code",
   "execution_count": null,
   "metadata": {},
   "outputs": [],
   "source": []
  },
  {
   "cell_type": "markdown",
   "metadata": {},
   "source": [
    "# Splitting the dataset"
   ]
  },
  {
   "cell_type": "code",
   "execution_count": 51,
   "metadata": {},
   "outputs": [],
   "source": [
    "#Split the dataset for y_OneHot\n",
    "X_train, X_test, y_train_OneHot, y_test_OneHot = train_test_split(X, y_OneHot, test_size=0.2, random_state=42)\n",
    "\n",
    "#Split the dataset for y_Label (Pandas Series)\n",
    "X_train, X_test, y_train_Label, y_test_Label = train_test_split(X, y_Label, test_size=0.2, random_state=42)\n",
    "\n"
   ]
  },
  {
   "cell_type": "code",
   "execution_count": 52,
   "metadata": {},
   "outputs": [],
   "source": [
    "\n",
    "Experiments = [\n",
    "    (\n",
    "        \"RF -OverS\", \n",
    "        RandomForestClassifier(class_weight=\"balanced\"),\n",
    "        (X_train, y_train_OneHot),\n",
    "        (X_test, y_test_OneHot)\n",
    "    ),\n",
    "\n",
    "    (\n",
    "        \"XGBoost -OverS\",\n",
    "        XGBClassifier(use_label_encoder=False, eval_metric='logloss'),\n",
    "        (X_train, y_train_OneHot),\n",
    "        (X_test, y_test_OneHot)\n",
    "    ),\n",
    "    \n",
    "    (\n",
    "         \"Logistic Regression-OverS\",\n",
    "        LogisticRegression(multi_class='multinomial', solver='lbfgs', max_iter=200),\n",
    "        (X_train, y_train_Label),\n",
    "        (X_test, y_test_Label)\n",
    "    ),\n",
    "    \n",
    "     (\n",
    "        \"K-Nearest Neighbors-OverS\",\n",
    "        KNeighborsClassifier(n_neighbors=5),\n",
    "        (X_train, y_train_Label),\n",
    "        (X_test, y_test_Label)\n",
    "    ),\n",
    "    \n",
    "    (\n",
    "        \"MLP-OverS\",\n",
    "        MLPClassifier(hidden_layer_sizes=(100,), max_iter=300, activation='relu', solver='adam'),\n",
    "        (X_train, y_train_OneHot),\n",
    "        (X_test, y_test_OneHot)\n",
    "    ),\n",
    "    \n",
    "    (\n",
    "        \"SVC-OS\",\n",
    "        SVC(kernel='linear', probability=True),  \n",
    "        (X_train, y_train_Label),\n",
    "        (X_test, y_test_Label)\n",
    "    )\n",
    "    \n",
    "    \n",
    "]\n"
   ]
  },
  {
   "cell_type": "code",
   "execution_count": 53,
   "metadata": {},
   "outputs": [
    {
     "name": "stderr",
     "output_type": "stream",
     "text": [
      "/opt/anaconda3/lib/python3.11/site-packages/sklearn/metrics/_classification.py:1344: UndefinedMetricWarning: Precision and F-score are ill-defined and being set to 0.0 in samples with no predicted labels. Use `zero_division` parameter to control this behavior.\n",
      "  _warn_prf(average, modifier, msg_start, len(result))\n",
      "/opt/anaconda3/lib/python3.11/site-packages/xgboost/core.py:158: UserWarning: [08:45:23] WARNING: /Users/runner/work/xgboost/xgboost/src/learner.cc:740: \n",
      "Parameters: { \"use_label_encoder\" } are not used.\n",
      "\n",
      "  warnings.warn(smsg, UserWarning)\n",
      "/opt/anaconda3/lib/python3.11/site-packages/sklearn/metrics/_classification.py:1344: UndefinedMetricWarning: Precision and F-score are ill-defined and being set to 0.0 in samples with no predicted labels. Use `zero_division` parameter to control this behavior.\n",
      "  _warn_prf(average, modifier, msg_start, len(result))\n",
      "/opt/anaconda3/lib/python3.11/site-packages/sklearn/neural_network/_multilayer_perceptron.py:686: ConvergenceWarning: Stochastic Optimizer: Maximum iterations (300) reached and the optimization hasn't converged yet.\n",
      "  warnings.warn(\n",
      "/opt/anaconda3/lib/python3.11/site-packages/sklearn/metrics/_classification.py:1344: UndefinedMetricWarning: Precision and F-score are ill-defined and being set to 0.0 in samples with no predicted labels. Use `zero_division` parameter to control this behavior.\n",
      "  _warn_prf(average, modifier, msg_start, len(result))\n"
     ]
    }
   ],
   "source": [
    "results_per_model = []\n",
    "\n",
    "for model_name, model, train_set, test_set in Experiments:\n",
    "    X_train = train_set[0] #get Xtrain from the list models\n",
    "    y_train = train_set[1] #get y_train from list models\n",
    "    X_test = test_set[0]    #get x_test from list models \n",
    "    y_test = test_set[1]   #get y_test from list models\n",
    "    \n",
    "    model.fit(X_train, y_train)  #train the current model\n",
    "    y_pred = model.predict(X_test) #make predictions \n",
    "    report = classification_report(y_test, y_pred, output_dict=True) #make a dict of the classification report\n",
    "    \n",
    "    \n",
    "    results_per_model.append(report) #add the previus dict to a list"
   ]
  },
  {
   "cell_type": "code",
   "execution_count": 54,
   "metadata": {},
   "outputs": [
    {
     "name": "stderr",
     "output_type": "stream",
     "text": [
      "2024/10/20 08:45:27 INFO mlflow.tracking.fluent: Experiment with name 'Analysis Model Jesus' does not exist. Creating a new experiment.\n",
      "2024/10/20 08:45:38 WARNING mlflow.models.model: Model logged without a signature and input example. Please set `input_example` parameter when logging the model to auto infer the model signature.\n",
      "2024/10/20 08:45:42 INFO mlflow.tracking._tracking_service.client: 🏃 View run RF -OverS at: http://3.84.228.208:5000/#/experiments/398844904523661981/runs/46fc3865c5994a6abbcb695bed5ffa74.\n",
      "2024/10/20 08:45:42 INFO mlflow.tracking._tracking_service.client: 🧪 View experiment at: http://3.84.228.208:5000/#/experiments/398844904523661981.\n",
      "/opt/anaconda3/lib/python3.11/site-packages/xgboost/core.py:158: UserWarning: [08:45:44] WARNING: /Users/runner/work/xgboost/xgboost/src/c_api/c_api.cc:1374: Saving model in the UBJSON format as default.  You can use file extension: `json`, `ubj` or `deprecated` to choose between formats.\n",
      "  warnings.warn(smsg, UserWarning)\n",
      "2024/10/20 08:45:48 WARNING mlflow.models.model: Model logged without a signature and input example. Please set `input_example` parameter when logging the model to auto infer the model signature.\n",
      "2024/10/20 08:45:52 INFO mlflow.tracking._tracking_service.client: 🏃 View run XGBoost -OverS at: http://3.84.228.208:5000/#/experiments/398844904523661981/runs/670b17505518427e997f61d4433d77a6.\n",
      "2024/10/20 08:45:52 INFO mlflow.tracking._tracking_service.client: 🧪 View experiment at: http://3.84.228.208:5000/#/experiments/398844904523661981.\n",
      "2024/10/20 08:45:58 WARNING mlflow.models.model: Model logged without a signature and input example. Please set `input_example` parameter when logging the model to auto infer the model signature.\n",
      "2024/10/20 08:45:59 INFO mlflow.tracking._tracking_service.client: 🏃 View run Logistic Regression-OverS at: http://3.84.228.208:5000/#/experiments/398844904523661981/runs/387d5f3b33a04978bd84ceaafc6564a0.\n",
      "2024/10/20 08:45:59 INFO mlflow.tracking._tracking_service.client: 🧪 View experiment at: http://3.84.228.208:5000/#/experiments/398844904523661981.\n",
      "2024/10/20 08:46:06 WARNING mlflow.models.model: Model logged without a signature and input example. Please set `input_example` parameter when logging the model to auto infer the model signature.\n",
      "2024/10/20 08:46:07 INFO mlflow.tracking._tracking_service.client: 🏃 View run K-Nearest Neighbors-OverS at: http://3.84.228.208:5000/#/experiments/398844904523661981/runs/f383d910bd3c4a1a96a972fa98482981.\n",
      "2024/10/20 08:46:07 INFO mlflow.tracking._tracking_service.client: 🧪 View experiment at: http://3.84.228.208:5000/#/experiments/398844904523661981.\n",
      "2024/10/20 08:46:14 WARNING mlflow.models.model: Model logged without a signature and input example. Please set `input_example` parameter when logging the model to auto infer the model signature.\n",
      "2024/10/20 08:46:16 INFO mlflow.tracking._tracking_service.client: 🏃 View run MLP-OverS at: http://3.84.228.208:5000/#/experiments/398844904523661981/runs/32e8c97d3cde4d058d35e478bcb830f9.\n",
      "2024/10/20 08:46:16 INFO mlflow.tracking._tracking_service.client: 🧪 View experiment at: http://3.84.228.208:5000/#/experiments/398844904523661981.\n",
      "2024/10/20 08:46:23 WARNING mlflow.models.model: Model logged without a signature and input example. Please set `input_example` parameter when logging the model to auto infer the model signature.\n",
      "2024/10/20 08:46:24 INFO mlflow.tracking._tracking_service.client: 🏃 View run SVC-OS at: http://3.84.228.208:5000/#/experiments/398844904523661981/runs/40694d9014bb4c34a3250536ba5004a1.\n",
      "2024/10/20 08:46:24 INFO mlflow.tracking._tracking_service.client: 🧪 View experiment at: http://3.84.228.208:5000/#/experiments/398844904523661981.\n"
     ]
    }
   ],
   "source": [
    "mlflow.set_experiment(\"Analysis Model Jesus\")\n",
    "mlflow.set_tracking_uri(\"http://3.84.228.208:5000\")\n",
    "\n",
    "for i, element in enumerate(Experiments):\n",
    "    model_name = element[0]\n",
    "    model = element[1]\n",
    "    report = results_per_model[i]\n",
    "    \n",
    "    with mlflow.start_run(run_name=model_name):        \n",
    "            mlflow.log_param(\"model\", model_name)\n",
    "            \n",
    "            \n",
    "            # -------------Class interpretation---------------- \n",
    "            #0 : Average\n",
    "            #1 : Excellent\n",
    "            #2 : Good\n",
    "            #3 : Very Good\n",
    "\n",
    "            #Metrics of class 0\n",
    "            \n",
    "            mlflow.log_metric('acurracy_class_0', report['0']['precision'])\n",
    "            mlflow.log_metric('recall_class_0', report['0']['recall'])\n",
    "            mlflow.log_metric('f1_class_0', report['0']['f1-score'])\n",
    "            \n",
    "            #Metrics of class 1\n",
    "             \n",
    "            mlflow.log_metric('acurracy_class_1', report['1']['precision'])\n",
    "            mlflow.log_metric('recall_class_1', report['1']['recall'])\n",
    "            mlflow.log_metric('f1_class_1', report['1']['f1-score'])\n",
    "            \n",
    "            #Metrics of class 2\n",
    "            \n",
    "            mlflow.log_metric('acurracy_class_2', report['2']['precision'])\n",
    "            mlflow.log_metric('recall_class_2', report['2']['recall'])\n",
    "            mlflow.log_metric('f1_class_2', report['2']['f1-score'])\n",
    "            \n",
    "            #Metrics of class 3\n",
    "            \n",
    "            mlflow.log_metric('acurracy_class_3', report['3']['precision'])\n",
    "            mlflow.log_metric('recall_class_3', report['3']['recall'])\n",
    "            mlflow.log_metric('f1_class_3', report['3']['f1-score'])\n",
    "            \n",
    "        \n",
    "            if \"XGB\" in model_name:\n",
    "                mlflow.xgboost.log_model(model, \"model\")\n",
    "            else:\n",
    "                mlflow.sklearn.log_model(model, \"model\") "
   ]
  }
 ],
 "metadata": {
  "kernelspec": {
   "display_name": "base",
   "language": "python",
   "name": "python3"
  },
  "language_info": {
   "codemirror_mode": {
    "name": "ipython",
    "version": 3
   },
   "file_extension": ".py",
   "mimetype": "text/x-python",
   "name": "python",
   "nbconvert_exporter": "python",
   "pygments_lexer": "ipython3",
   "version": "3.11.7"
  }
 },
 "nbformat": 4,
 "nbformat_minor": 2
}
